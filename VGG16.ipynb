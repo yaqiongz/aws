{
 "cells": [
  {
   "cell_type": "markdown",
   "metadata": {},
   "source": [
    "require input \"X_train_rotate.npy\"\n",
    "\"X_test.npy\"\n",
    "\"target_train.npy\"\n",
    "\"test_id\""
   ]
  },
  {
   "cell_type": "code",
   "execution_count": 1,
   "metadata": {},
   "outputs": [
    {
     "name": "stderr",
     "output_type": "stream",
     "text": [
      "Using TensorFlow backend.\n",
      "/home/ubuntu/anaconda3/envs/tensorflow_p36/lib/python3.6/importlib/_bootstrap.py:219: RuntimeWarning: compiletime version 3.5 of module 'tensorflow.python.framework.fast_tensor_util' does not match runtime version 3.6\n",
      "  return f(*args, **kwds)\n"
     ]
    }
   ],
   "source": [
    "from keras.preprocessing.image import ImageDataGenerator\n",
    "import numpy as np\n",
    "from sklearn.model_selection import train_test_split\n",
    "from keras.models import Sequential\n",
    "from keras.layers import Dropout, Flatten, Dense\n",
    "from keras import applications\n",
    "from keras.callbacks import ModelCheckpoint, Callback, EarlyStopping\n",
    "from keras import optimizers\n",
    "from keras.optimizers import Adam\n",
    "from keras.applications.vgg19 import VGG19"
   ]
  },
  {
   "cell_type": "code",
   "execution_count": 2,
   "metadata": {},
   "outputs": [],
   "source": [
    "epochs = 200\n",
    "batch_size = 64\n",
    "split = 0.9"
   ]
  },
  {
   "cell_type": "code",
   "execution_count": 3,
   "metadata": {},
   "outputs": [
    {
     "name": "stderr",
     "output_type": "stream",
     "text": [
      "/home/ubuntu/anaconda3/envs/tensorflow_p36/lib/python3.6/site-packages/sklearn/model_selection/_split.py:2026: FutureWarning: From version 0.21, test_size will always complement train_size unless both are specified.\n",
      "  FutureWarning)\n"
     ]
    },
    {
     "data": {
      "text/plain": [
       "(4812, 75, 75, 3)"
      ]
     },
     "execution_count": 3,
     "metadata": {},
     "output_type": "execute_result"
    }
   ],
   "source": [
    "X_train=np.load('X_train_rotate.npy')\n",
    "target_train=np.load('target_train.npy')\n",
    "#X_test=np.load('X_test.npy')\n",
    "X_train_cv, X_valid, y_train_cv, y_valid = train_test_split(X_train, target_train, train_size=split)\n",
    "nb_train_samples = len(X_train_cv)\n",
    "nb_train_samples = len(X_train_cv)\n",
    "nb_validation_samples = len(X_valid)\n",
    "X_train.shape"
   ]
  },
  {
   "cell_type": "code",
   "execution_count": 4,
   "metadata": {},
   "outputs": [],
   "source": [
    "def save_bottlebeck_features():\n",
    "    # build the VGG16 network\n",
    "    model = applications.VGG16(include_top=False, weights='imagenet')\n",
    "    \n",
    "    bottleneck_features_train = model.predict(X_train_cv)\n",
    "    np.save('bottleneck_features_train.npy', bottleneck_features_train)\n",
    "\n",
    "    bottleneck_features_validation = model.predict(X_valid)\n",
    "    np.save('bottleneck_features_validation.npy', bottleneck_features_validation)\n",
    "    \n",
    "    #bottleneck_features_validation = model.predict(X_test)\n",
    "    #np.save('bottleneck_features_test.npy', bottleneck_features_validation)"
   ]
  },
  {
   "cell_type": "code",
   "execution_count": 5,
   "metadata": {},
   "outputs": [],
   "source": [
    "def get_callbacks(filepath, patience=2):\n",
    "    es = EarlyStopping('val_loss', patience=patience, mode=\"min\")\n",
    "    msave = ModelCheckpoint(filepath, save_best_only=True)\n",
    "    return [es, msave]\n",
    "\n"
   ]
  },
  {
   "cell_type": "code",
   "execution_count": 6,
   "metadata": {},
   "outputs": [],
   "source": [
    "mypotim=Adam(lr=0.0001, beta_1=0.9, beta_2=0.999, epsilon=1e-08, decay=0.0)\n",
    "def train_top_model():\n",
    "    train_data = np.load('bottleneck_features_train.npy')\n",
    "    \n",
    "    model = Sequential()\n",
    "    model.add(Flatten(input_shape=train_data.shape[1:]))\n",
    "    model.add(Dense(512, activation='relu'))\n",
    "    model.add(Dropout(0.5))\n",
    "    model.add(Dense(256, activation='relu'))\n",
    "    model.add(Dropout(0.5))\n",
    "    model.add(Dense(1, activation='sigmoid'))\n",
    "    \n",
    "    model.compile(optimizer=mypotim,\n",
    "                  loss='binary_crossentropy', \n",
    "                  metrics=['accuracy'])\n",
    "    model.summary()\n",
    "    return model\n",
    "    \n",
    "    "
   ]
  },
  {
   "cell_type": "code",
   "execution_count": 7,
   "metadata": {},
   "outputs": [],
   "source": [
    "file_path = 'top_model_weights_path.h5'\n",
    "callbacks = get_callbacks(filepath=file_path, patience=20)"
   ]
  },
  {
   "cell_type": "code",
   "execution_count": 8,
   "metadata": {},
   "outputs": [
    {
     "name": "stdout",
     "output_type": "stream",
     "text": [
      "_________________________________________________________________\n",
      "Layer (type)                 Output Shape              Param #   \n",
      "=================================================================\n",
      "flatten_1 (Flatten)          (None, 2048)              0         \n",
      "_________________________________________________________________\n",
      "dense_1 (Dense)              (None, 512)               1049088   \n",
      "_________________________________________________________________\n",
      "dropout_1 (Dropout)          (None, 512)               0         \n",
      "_________________________________________________________________\n",
      "dense_2 (Dense)              (None, 256)               131328    \n",
      "_________________________________________________________________\n",
      "dropout_2 (Dropout)          (None, 256)               0         \n",
      "_________________________________________________________________\n",
      "dense_3 (Dense)              (None, 1)                 257       \n",
      "=================================================================\n",
      "Total params: 1,180,673\n",
      "Trainable params: 1,180,673\n",
      "Non-trainable params: 0\n",
      "_________________________________________________________________\n",
      "Train on 4330 samples, validate on 482 samples\n",
      "Epoch 1/200\n",
      "4330/4330 [==============================] - 1s 166us/step - loss: 0.7250 - acc: 0.6074 - val_loss: 0.5041 - val_acc: 0.7282\n",
      "Epoch 2/200\n",
      "4330/4330 [==============================] - 0s 100us/step - loss: 0.5474 - acc: 0.7042 - val_loss: 0.4348 - val_acc: 0.7925\n",
      "Epoch 3/200\n",
      "4330/4330 [==============================] - 0s 99us/step - loss: 0.4993 - acc: 0.7393 - val_loss: 0.4176 - val_acc: 0.7925\n",
      "Epoch 4/200\n",
      "4330/4330 [==============================] - 0s 99us/step - loss: 0.4473 - acc: 0.7737 - val_loss: 0.3903 - val_acc: 0.8071\n",
      "Epoch 5/200\n",
      "4330/4330 [==============================] - 0s 99us/step - loss: 0.4301 - acc: 0.7827 - val_loss: 0.3809 - val_acc: 0.8154\n",
      "Epoch 6/200\n",
      "4330/4330 [==============================] - 0s 98us/step - loss: 0.4179 - acc: 0.7871 - val_loss: 0.3732 - val_acc: 0.8154\n",
      "Epoch 7/200\n",
      "4330/4330 [==============================] - 0s 98us/step - loss: 0.3974 - acc: 0.8062 - val_loss: 0.3658 - val_acc: 0.8237\n",
      "Epoch 8/200\n",
      "4330/4330 [==============================] - 0s 101us/step - loss: 0.3739 - acc: 0.8210 - val_loss: 0.3584 - val_acc: 0.8257\n",
      "Epoch 9/200\n",
      "4330/4330 [==============================] - 0s 94us/step - loss: 0.3742 - acc: 0.8189 - val_loss: 0.3610 - val_acc: 0.8299\n",
      "Epoch 10/200\n",
      "4330/4330 [==============================] - 0s 100us/step - loss: 0.3561 - acc: 0.8277 - val_loss: 0.3627 - val_acc: 0.8216\n",
      "Epoch 11/200\n",
      "4330/4330 [==============================] - 0s 103us/step - loss: 0.3454 - acc: 0.8330 - val_loss: 0.3508 - val_acc: 0.8340\n",
      "Epoch 12/200\n",
      "4330/4330 [==============================] - 0s 86us/step - loss: 0.3367 - acc: 0.8342 - val_loss: 0.3529 - val_acc: 0.8361\n",
      "Epoch 13/200\n",
      "4330/4330 [==============================] - 0s 99us/step - loss: 0.3312 - acc: 0.8432 - val_loss: 0.3499 - val_acc: 0.8361\n",
      "Epoch 14/200\n",
      "4330/4330 [==============================] - 0s 100us/step - loss: 0.3259 - acc: 0.8418 - val_loss: 0.3488 - val_acc: 0.8340\n",
      "Epoch 15/200\n",
      "4330/4330 [==============================] - 0s 98us/step - loss: 0.3117 - acc: 0.8501 - val_loss: 0.3444 - val_acc: 0.8382\n",
      "Epoch 16/200\n",
      "4330/4330 [==============================] - 0s 86us/step - loss: 0.3059 - acc: 0.8547 - val_loss: 0.3456 - val_acc: 0.8402\n",
      "Epoch 17/200\n",
      "4330/4330 [==============================] - 0s 87us/step - loss: 0.2950 - acc: 0.8647 - val_loss: 0.3460 - val_acc: 0.8402\n",
      "Epoch 18/200\n",
      "4330/4330 [==============================] - 0s 87us/step - loss: 0.2922 - acc: 0.8647 - val_loss: 0.3469 - val_acc: 0.8402\n",
      "Epoch 19/200\n",
      "4330/4330 [==============================] - 0s 85us/step - loss: 0.2833 - acc: 0.8697 - val_loss: 0.3449 - val_acc: 0.8506\n",
      "Epoch 20/200\n",
      "4330/4330 [==============================] - 0s 86us/step - loss: 0.2717 - acc: 0.8769 - val_loss: 0.3490 - val_acc: 0.8444\n",
      "Epoch 21/200\n",
      "4330/4330 [==============================] - 0s 100us/step - loss: 0.2707 - acc: 0.8732 - val_loss: 0.3422 - val_acc: 0.8485\n",
      "Epoch 22/200\n",
      "4330/4330 [==============================] - 0s 87us/step - loss: 0.2610 - acc: 0.8818 - val_loss: 0.3502 - val_acc: 0.8444\n",
      "Epoch 23/200\n",
      "4330/4330 [==============================] - 0s 87us/step - loss: 0.2481 - acc: 0.8855 - val_loss: 0.3579 - val_acc: 0.8382\n",
      "Epoch 24/200\n",
      "4330/4330 [==============================] - 0s 86us/step - loss: 0.2448 - acc: 0.8910 - val_loss: 0.3621 - val_acc: 0.8423\n",
      "Epoch 25/200\n",
      "4330/4330 [==============================] - 0s 87us/step - loss: 0.2377 - acc: 0.8919 - val_loss: 0.3502 - val_acc: 0.8382\n",
      "Epoch 26/200\n",
      "4330/4330 [==============================] - 0s 86us/step - loss: 0.2307 - acc: 0.9016 - val_loss: 0.3641 - val_acc: 0.8444\n",
      "Epoch 27/200\n",
      "4330/4330 [==============================] - 0s 87us/step - loss: 0.2325 - acc: 0.9042 - val_loss: 0.3638 - val_acc: 0.8402\n",
      "Epoch 28/200\n",
      "4330/4330 [==============================] - 0s 86us/step - loss: 0.2225 - acc: 0.8995 - val_loss: 0.3633 - val_acc: 0.8485\n",
      "Epoch 29/200\n",
      "4330/4330 [==============================] - 0s 86us/step - loss: 0.2178 - acc: 0.9048 - val_loss: 0.3659 - val_acc: 0.8299\n",
      "Epoch 30/200\n",
      "4330/4330 [==============================] - 0s 86us/step - loss: 0.2110 - acc: 0.9067 - val_loss: 0.3641 - val_acc: 0.8444\n",
      "Epoch 31/200\n",
      "4330/4330 [==============================] - 0s 86us/step - loss: 0.2024 - acc: 0.9159 - val_loss: 0.3695 - val_acc: 0.8402\n",
      "Epoch 32/200\n",
      "4330/4330 [==============================] - 0s 86us/step - loss: 0.2025 - acc: 0.9076 - val_loss: 0.3676 - val_acc: 0.8444\n",
      "Epoch 33/200\n",
      "4330/4330 [==============================] - 0s 86us/step - loss: 0.1918 - acc: 0.9150 - val_loss: 0.3966 - val_acc: 0.8320\n",
      "Epoch 34/200\n",
      "4330/4330 [==============================] - 0s 86us/step - loss: 0.1885 - acc: 0.9208 - val_loss: 0.3952 - val_acc: 0.8444\n",
      "Epoch 35/200\n",
      "4330/4330 [==============================] - 0s 87us/step - loss: 0.1871 - acc: 0.9164 - val_loss: 0.3810 - val_acc: 0.8444\n",
      "Epoch 36/200\n",
      "4330/4330 [==============================] - 0s 87us/step - loss: 0.1723 - acc: 0.9238 - val_loss: 0.3814 - val_acc: 0.8465\n",
      "Epoch 37/200\n",
      "4330/4330 [==============================] - 0s 87us/step - loss: 0.1732 - acc: 0.9293 - val_loss: 0.3925 - val_acc: 0.8299\n",
      "Epoch 38/200\n",
      "4330/4330 [==============================] - 0s 86us/step - loss: 0.1672 - acc: 0.9268 - val_loss: 0.3966 - val_acc: 0.8465\n",
      "Epoch 39/200\n",
      "4330/4330 [==============================] - 0s 86us/step - loss: 0.1623 - acc: 0.9337 - val_loss: 0.4012 - val_acc: 0.8444\n",
      "Epoch 40/200\n",
      "4330/4330 [==============================] - 0s 86us/step - loss: 0.1582 - acc: 0.9346 - val_loss: 0.4100 - val_acc: 0.8423\n",
      "Epoch 41/200\n",
      "4330/4330 [==============================] - 0s 86us/step - loss: 0.1534 - acc: 0.9381 - val_loss: 0.4127 - val_acc: 0.8402\n"
     ]
    }
   ],
   "source": [
    "import os\n",
    "save_bottlebeck_features()\n",
    "model = train_top_model()\n",
    "train_data = np.load('bottleneck_features_train.npy')\n",
    "validation_data = np.load('bottleneck_features_validation.npy')\n",
    "    \n",
    "\n",
    "history = model.fit(train_data, y_train_cv,\n",
    "                    epochs=epochs,\n",
    "                    batch_size=batch_size,\n",
    "                    validation_data=(validation_data, y_valid),\n",
    "                    callbacks=callbacks)"
   ]
  },
  {
   "cell_type": "code",
   "execution_count": 9,
   "metadata": {},
   "outputs": [
    {
     "name": "stdout",
     "output_type": "stream",
     "text": [
      "482/482 [==============================] - 0s 55us/step\n",
      "Test loss: 0.342239198843\n",
      "Test accuracy: 0.848547717842\n"
     ]
    }
   ],
   "source": [
    "model.load_weights(filepath=file_path)\n",
    "score = model.evaluate(validation_data, y_valid, verbose=1)\n",
    "print('Test loss:', score[0])\n",
    "print('Test accuracy:', score[1])"
   ]
  },
  {
   "cell_type": "code",
   "execution_count": 10,
   "metadata": {},
   "outputs": [
    {
     "name": "stdout",
     "output_type": "stream",
     "text": [
      "dict_keys(['val_loss', 'val_acc', 'loss', 'acc'])\n"
     ]
    },
    {
     "data": {
      "image/png": "[encoded data removed]",
      "text/plain": [
       "<matplotlib.figure.Figure at 0x7fb8541a8438>"
      ]
     },
     "metadata": {},
     "output_type": "display_data"
    },
    {
     "data": {
      "image/png": "[encoded data removed]",
      "text/plain": [
       "<matplotlib.figure.Figure at 0x7fb8181e1588>"
      ]
     },
     "metadata": {},
     "output_type": "display_data"
    }
   ],
   "source": [
    "from matplotlib import pyplot as plt\n",
    "%matplotlib inline\n",
    "print(history.history.keys())\n",
    "# summarize history for accuracy\n",
    "plt.plot(history.history['acc'])\n",
    "plt.plot(history.history['val_acc'])\n",
    "plt.title('model accuracy')\n",
    "plt.ylabel('accuracy')\n",
    "plt.xlabel('epoch')\n",
    "plt.legend(['train', 'test'], loc='upper left')\n",
    "plt.show()\n",
    "# summarize history for loss\n",
    "plt.plot(history.history['loss'])\n",
    "plt.plot(history.history['val_loss'])\n",
    "plt.title('model loss')\n",
    "plt.ylabel('loss')\n",
    "plt.xlabel('epoch')\n",
    "plt.legend(['train', 'test'], loc='upper left')\n",
    "plt.show()"
   ]
  },
  {
   "cell_type": "code",
   "execution_count": 11,
   "metadata": {},
   "outputs": [
    {
     "ename": "FileNotFoundError",
     "evalue": "[Errno 2] No such file or directory: 'bottleneck_features_test.npy'",
     "output_type": "error",
     "traceback": [
      "\u001b[0;31m---------------------------------------------------------------------------\u001b[0m",
      "\u001b[0;31mFileNotFoundError\u001b[0m                         Traceback (most recent call last)",
      "\u001b[0;32m<ipython-input-11-955053df258c>\u001b[0m in \u001b[0;36m<module>\u001b[0;34m()\u001b[0m\n\u001b[0;32m----> 1\u001b[0;31m \u001b[0mX_test\u001b[0m \u001b[0;34m=\u001b[0m \u001b[0mnp\u001b[0m\u001b[0;34m.\u001b[0m\u001b[0mload\u001b[0m\u001b[0;34m(\u001b[0m\u001b[0;34m'bottleneck_features_test.npy'\u001b[0m\u001b[0;34m)\u001b[0m\u001b[0;34m\u001b[0m\u001b[0m\n\u001b[0m\u001b[1;32m      2\u001b[0m \u001b[0mpredicted_test\u001b[0m\u001b[0;34m=\u001b[0m\u001b[0mmodel\u001b[0m\u001b[0;34m.\u001b[0m\u001b[0mpredict\u001b[0m\u001b[0;34m(\u001b[0m\u001b[0mX_test\u001b[0m\u001b[0;34m,\u001b[0m\u001b[0mverbose\u001b[0m\u001b[0;34m=\u001b[0m\u001b[0;36m1\u001b[0m\u001b[0;34m)\u001b[0m\u001b[0;34m\u001b[0m\u001b[0m\n",
      "\u001b[0;32m~/anaconda3/envs/tensorflow_p36/lib/python3.6/site-packages/numpy/lib/npyio.py\u001b[0m in \u001b[0;36mload\u001b[0;34m(file, mmap_mode, allow_pickle, fix_imports, encoding)\u001b[0m\n\u001b[1;32m    368\u001b[0m     \u001b[0mown_fid\u001b[0m \u001b[0;34m=\u001b[0m \u001b[0;32mFalse\u001b[0m\u001b[0;34m\u001b[0m\u001b[0m\n\u001b[1;32m    369\u001b[0m     \u001b[0;32mif\u001b[0m \u001b[0misinstance\u001b[0m\u001b[0;34m(\u001b[0m\u001b[0mfile\u001b[0m\u001b[0;34m,\u001b[0m \u001b[0mbasestring\u001b[0m\u001b[0;34m)\u001b[0m\u001b[0;34m:\u001b[0m\u001b[0;34m\u001b[0m\u001b[0m\n\u001b[0;32m--> 370\u001b[0;31m         \u001b[0mfid\u001b[0m \u001b[0;34m=\u001b[0m \u001b[0mopen\u001b[0m\u001b[0;34m(\u001b[0m\u001b[0mfile\u001b[0m\u001b[0;34m,\u001b[0m \u001b[0;34m\"rb\"\u001b[0m\u001b[0;34m)\u001b[0m\u001b[0;34m\u001b[0m\u001b[0m\n\u001b[0m\u001b[1;32m    371\u001b[0m         \u001b[0mown_fid\u001b[0m \u001b[0;34m=\u001b[0m \u001b[0;32mTrue\u001b[0m\u001b[0;34m\u001b[0m\u001b[0m\n\u001b[1;32m    372\u001b[0m     \u001b[0;32melif\u001b[0m \u001b[0mis_pathlib_path\u001b[0m\u001b[0;34m(\u001b[0m\u001b[0mfile\u001b[0m\u001b[0;34m)\u001b[0m\u001b[0;34m:\u001b[0m\u001b[0;34m\u001b[0m\u001b[0m\n",
      "\u001b[0;31mFileNotFoundError\u001b[0m: [Errno 2] No such file or directory: 'bottleneck_features_test.npy'"
     ]
    }
   ],
   "source": [
    "X_test = np.load('bottleneck_features_test.npy')\n",
    "predicted_test=model.predict(X_test,verbose=1)"
   ]
  },
  {
   "cell_type": "code",
   "execution_count": null,
   "metadata": {},
   "outputs": [],
   "source": [
    "import pandas as pd\n",
    "submission = pd.DataFrame()\n",
    "test_id=np.load('test_id.npy')\n",
    "submission['id']=test_id\n",
    "submission['is_iceberg']=predicted_test.reshape((predicted_test.shape[0]))\n",
    "submission.to_csv('sub.csv', index=False)"
   ]
  }
 ],
 "metadata": {
  "kernelspec": {
   "display_name": "Environment (conda_tensorflow_p36)",
   "language": "python",
   "name": "conda_tensorflow_p36"
  },
  "language_info": {
   "codemirror_mode": {
    "name": "ipython",
    "version": 3
   },
   "file_extension": ".py",
   "mimetype": "text/x-python",
   "name": "python",
   "nbconvert_exporter": "python",
   "pygments_lexer": "ipython3",
   "version": "3.6.3"
  }
 },
 "nbformat": 4,
 "nbformat_minor": 2
}
