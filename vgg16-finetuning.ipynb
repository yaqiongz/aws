{
 "cells": [
  {
   "cell_type": "code",
   "execution_count": 1,
   "metadata": {},
   "outputs": [
    {
     "name": "stderr",
     "output_type": "stream",
     "text": [
      "Using TensorFlow backend.\n",
      "/home/ubuntu/anaconda3/envs/tensorflow_p36/lib/python3.6/importlib/_bootstrap.py:219: RuntimeWarning: compiletime version 3.5 of module 'tensorflow.python.framework.fast_tensor_util' does not match runtime version 3.6\n",
      "  return f(*args, **kwds)\n"
     ]
    }
   ],
   "source": [
    "import numpy as np\n",
    "from matplotlib import pyplot as plt\n",
    "%matplotlib inline\n",
    "from keras import applications\n",
    "from keras.preprocessing.image import ImageDataGenerator\n",
    "from keras import optimizers\n",
    "from keras.models import Sequential\n",
    "from keras.layers import Dropout, Flatten, Dense\n",
    "from sklearn.model_selection import train_test_split\n",
    "from keras.models import Model\n",
    "from keras.callbacks import ModelCheckpoint, Callback, EarlyStopping\n",
    "from keras.optimizers import Adam\n",
    "from keras.applications.vgg19 import VGG19"
   ]
  },
  {
   "cell_type": "code",
   "execution_count": 2,
   "metadata": {},
   "outputs": [],
   "source": [
    "weights_path = 'vgg16_weights.h5'\n",
    "top_model_weights_path = 'top_model_weights_path.h5'"
   ]
  },
  {
   "cell_type": "code",
   "execution_count": 3,
   "metadata": {},
   "outputs": [],
   "source": [
    "epochs = 10\n",
    "batch_size = 24\n",
    "split=0.9"
   ]
  },
  {
   "cell_type": "code",
   "execution_count": 4,
   "metadata": {},
   "outputs": [],
   "source": [
    "X_train=np.load('X_train_rotate.npy')\n",
    "target_train=np.load('target_train.npy')"
   ]
  },
  {
   "cell_type": "code",
   "execution_count": 5,
   "metadata": {},
   "outputs": [],
   "source": [
    "def get_callbacks(filepath, patience):\n",
    "    es = EarlyStopping('val_loss', patience=patience, mode=\"min\")\n",
    "    msave = ModelCheckpoint(filepath, save_best_only=True)\n",
    "    return [es, msave]"
   ]
  },
  {
   "cell_type": "code",
   "execution_count": 7,
   "metadata": {},
   "outputs": [],
   "source": [
    "def model_plus(lr,beta1):\n",
    "    base_model = applications.VGG16(weights='imagenet', include_top=False,input_shape=(75,75,3))\n",
    "    # build a classifier model to put on top of the convolutional model\n",
    "    top_model = Sequential()\n",
    "    top_model.add(Flatten(input_shape=base_model.output_shape[1:]))\n",
    "    top_model.add(Dense(1024, activation='relu'))\n",
    "    top_model.add(Dropout(0.5))\n",
    "    top_model.add(Dense(256, activation='relu'))\n",
    "    top_model.add(Dropout(0.5))\n",
    "    top_model.add(Dense(1, activation='sigmoid'))\n",
    "    # note that it is necessary to start with a fully-trained\n",
    "    # classifier, including the top classifier,\n",
    "    # in order to successfully do fine-tuning\n",
    "    top_model.load_weights(top_model_weights_path)\n",
    "    # add the model on top of the convolutional base\n",
    "    #model.add(top_model)\n",
    "    model = Model(inputs=base_model.input, outputs=top_model(base_model.output))\n",
    "    # set the first 25 layers (up to the last conv block)\n",
    "    # to non-trainable (weights will not be updated)\n",
    "    for layer in model.layers[:-5]:\n",
    "        layer.trainable = False\n",
    "    # compile the model with a SGD/momentum optimizer\n",
    "    # and a very slow learning rate.\n",
    "    mypotim=Adam(lr=lr, beta_1=beta1, beta_2=0.999, epsilon=1e-08, decay=0.0)\n",
    "    model.compile(loss='binary_crossentropy',\n",
    "                  optimizer=mypotim,\n",
    "                  metrics=['accuracy'])\n",
    "    return model"
   ]
  },
  {
   "cell_type": "code",
   "execution_count": 8,
   "metadata": {},
   "outputs": [],
   "source": [
    "file_path = \"model_weights.hdf5\""
   ]
  },
  {
   "cell_type": "code",
   "execution_count": 10,
   "metadata": {},
   "outputs": [
    {
     "name": "stdout",
     "output_type": "stream",
     "text": [
      "loss 0.2698023683\n",
      "acc 0.893042575286\n",
      "loss 0.341593784861\n",
      "acc 0.885773624153\n",
      "loss 0.316785032937\n",
      "acc 0.860851505711\n",
      "loss 0.282813037164\n",
      "acc 0.881496881497\n",
      "loss 0.258948403919\n",
      "acc 0.879292403746\n",
      "lr= 0.0001 beta1 0.5 Test loss average================ 0.293988525437 Test loss std: 0.0307363411297\n",
      "loss 0.280352931826\n",
      "acc 0.889927310488\n",
      "loss 0.263163816582\n",
      "acc 0.886812045691\n",
      "loss 0.34904452329\n",
      "acc 0.835929387331\n",
      "loss 0.281125417082\n",
      "acc 0.878378378378\n",
      "loss 0.277134961147\n",
      "acc 0.875130072841\n",
      "lr= 0.0001 beta1 0.7 Test loss average================ 0.290164329986 Test loss std: 0.0301450985079\n",
      "loss 0.247362203858\n",
      "acc 0.899273104881\n",
      "loss 0.257320971813\n",
      "acc 0.882658359356\n",
      "loss 0.323489382004\n",
      "acc 0.860851505711\n",
      "loss 0.235581006796\n",
      "acc 0.891891891892\n",
      "loss 0.282847129652\n",
      "acc 0.888657648283\n",
      "lr= 0.0001 beta1 0.9 Test loss average================ 0.269320138825 Test loss std: 0.031246588084\n",
      "loss 0.208867745383\n",
      "acc 0.909657320872\n",
      "loss 0.21845103367\n",
      "acc 0.894080996885\n",
      "loss 0.230069976776\n",
      "acc 0.907580477674\n",
      "loss 0.235139739894\n",
      "acc 0.892931392931\n",
      "loss 0.239217376424\n",
      "acc 0.884495317378\n",
      "lr= 1e-05 beta1 0.5 Test loss average================ 0.226349174429 Test loss std: 0.0111775670235\n",
      "loss 0.203537457772\n",
      "acc 0.913811007269\n",
      "loss 0.214450891276\n",
      "acc 0.907580477674\n",
      "loss 0.217682899155\n",
      "acc 0.905503634476\n",
      "loss 0.236141730709\n",
      "acc 0.900207900208\n",
      "loss 0.222032039365\n",
      "acc 0.908428720083\n",
      "lr= 1e-05 beta1 0.7 Test loss average================ 0.218769003656 Test loss std: 0.0106234152213\n",
      "loss 0.209178590326\n",
      "acc 0.914849428868\n",
      "loss 0.216019221185\n",
      "acc 0.897196261682\n",
      "loss 0.226310372476\n",
      "acc 0.909657320872\n",
      "loss 0.238352798004\n",
      "acc 0.89501039501\n",
      "loss 0.222978442969\n",
      "acc 0.900104058273\n",
      "lr= 1e-05 beta1 0.9 Test loss average================ 0.222567884992 Test loss std: 0.00985389728506\n",
      "loss 0.199671949583\n",
      "acc 0.91277258567\n",
      "loss 0.209177818276\n",
      "acc 0.902388369678\n",
      "loss 0.214784284928\n",
      "acc 0.916926272066\n",
      "loss 0.230006979337\n",
      "acc 0.898128898129\n",
      "loss 0.211551874923\n",
      "acc 0.90946930281\n",
      "lr= 1e-06 beta1 0.5 Test loss average================ 0.213038581409 Test loss std: 0.0098666776935\n",
      "loss 0.201653687354\n",
      "acc 0.907580477674\n",
      "loss 0.209358733707\n",
      "acc 0.903426791277\n",
      "loss 0.214450429781\n",
      "acc 0.916926272066\n",
      "loss 0.23047800249\n",
      "acc 0.901247401247\n",
      "loss 0.208323774427\n",
      "acc 0.90946930281\n",
      "lr= 1e-06 beta1 0.7 Test loss average================ 0.212852925552 Test loss std: 0.00970917998178\n",
      "loss 0.200311522307\n",
      "acc 0.908618899273\n",
      "loss 0.209197763179\n",
      "acc 0.906542056075\n",
      "loss 0.216128797886\n",
      "acc 0.919003115265\n",
      "loss 0.230335603051\n",
      "acc 0.903326403326\n",
      "loss 0.209934503646\n",
      "acc 0.913631633715\n",
      "lr= 1e-06 beta1 0.9 Test loss average================ 0.213181638014 Test loss std: 0.00994986719934\n"
     ]
    }
   ],
   "source": [
    "#5fold cross validation\n",
    "\n",
    "from sklearn.model_selection import StratifiedKFold\n",
    "from keras.wrappers.scikit_learn import KerasClassifier\n",
    "from sklearn.model_selection import StratifiedKFold\n",
    "from sklearn.model_selection import cross_val_score\n",
    "\n",
    "from keras import initializers\n",
    "weight_init = initializers.glorot_uniform(seed=7)\n",
    "\n",
    "seed = 7\n",
    "np.random.seed(seed)\n",
    "kfold = StratifiedKFold(n_splits=5, shuffle=False, random_state=seed)\n",
    "\n",
    "for lr in [1e-4,1e-5,1e-6]:\n",
    "    for beta1 in [0.5,0.7,0.9]:\n",
    "        cvscores = []\n",
    "\n",
    "        for train, test in kfold.split(X_train, target_train):\n",
    "            model = model_plus(lr,beta1)\n",
    "            model.fit(X_train[train], target_train[train],\n",
    "                    epochs=epochs,\n",
    "                    batch_size=batch_size,\n",
    "                    verbose=0,\n",
    "                    validation_data=(X_train[test], target_train[test]),\n",
    "                    callbacks = get_callbacks(file_path,5))\n",
    "            model.load_weights(filepath=file_path)\n",
    "            scores = model.evaluate(X_train[test], target_train[test], verbose=0)\n",
    "            print(model.metrics_names[0], scores[0])\n",
    "            print(model.metrics_names[1], scores[1])\n",
    "            cvscores.append(scores[0])\n",
    "        print('lr=',lr,'beta1',beta1,'Test loss average================',np.mean(cvscores), 'Test loss std:',np.std(cvscores))"
   ]
  },
  {
   "cell_type": "code",
   "execution_count": null,
   "metadata": {},
   "outputs": [],
   "source": [
    "print('Test loss average:',np.mean(cvscores), 'Test loss std:',np.std(cvscores))\n",
    "print('Test acc average:',np.mean(cvscores_), 'Test loss std:',np.std(cvscores_))"
   ]
  },
  {
   "cell_type": "code",
   "execution_count": null,
   "metadata": {},
   "outputs": [],
   "source": [
    "'print(history.history.keys())\n",
    "# summarize history for accuracy\n",
    "plt.plot(history.history['acc'])\n",
    "plt.plot(history.history['val_acc'])\n",
    "plt.title('model accuracy')\n",
    "plt.ylabel('accuracy')\n",
    "plt.xlabel('epoch')\n",
    "plt.legend(['train', 'test'], loc='upper left')\n",
    "plt.show()\n",
    "# summarize history for loss\n",
    "plt.plot(history.history['loss'])\n",
    "plt.plot(history.history['val_loss'])\n",
    "plt.title('model loss')\n",
    "plt.ylabel('loss')\n",
    "plt.xlabel('epoch')\n",
    "plt.legend(['train', 'test'], loc='upper left')\n",
    "plt.show()"
   ]
  },
  {
   "cell_type": "code",
   "execution_count": null,
   "metadata": {},
   "outputs": [],
   "source": [
    "X_test=np.load('X_test.npy')\n",
    "predicted_test=model.predict(X_test,verbose=1)"
   ]
  },
  {
   "cell_type": "code",
   "execution_count": null,
   "metadata": {},
   "outputs": [],
   "source": [
    "import pandas as pd\n",
    "submission = pd.DataFrame()\n",
    "test_id=np.load('test_id.npy')\n",
    "submission['id']=test_id\n",
    "submission['is_iceberg']=predicted_test.reshape((predicted_test.shape[0]))\n",
    "submission.to_csv('sub.csv', index=False)"
   ]
  },
  {
   "cell_type": "code",
   "execution_count": null,
   "metadata": {},
   "outputs": [],
   "source": [
    "i=0\n",
    "for layer in model.layers:\n",
    "    i=i+1\n",
    "    \n",
    "print (i)    "
   ]
  },
  {
   "cell_type": "code",
   "execution_count": null,
   "metadata": {},
   "outputs": [],
   "source": []
  }
 ],
 "metadata": {
  "kernelspec": {
   "display_name": "Environment (conda_tensorflow_p36)",
   "language": "python",
   "name": "conda_tensorflow_p36"
  },
  "language_info": {
   "codemirror_mode": {
    "name": "ipython",
    "version": 3
   },
   "file_extension": ".py",
   "mimetype": "text/x-python",
   "name": "python",
   "nbconvert_exporter": "python",
   "pygments_lexer": "ipython3",
   "version": "3.6.3"
  }
 },
 "nbformat": 4,
 "nbformat_minor": 2
}
