{
 "cells": [
  {
   "cell_type": "markdown",
   "metadata": {},
   "source": [
    "This program read the preprocessed data, in .npy format\n",
    "\n",
    "use Convnet to train a model"
   ]
  },
  {
   "cell_type": "markdown",
   "metadata": {},
   "source": [
    "This jupyter notebook is built with these previous contributors:\n",
    "1. https://www.kaggle.com/devm2024/keras-model-for-beginners-0-210-on-lb-eda-r-d Keras Model for Beginners (0.210 on LB)+EDA+R&D by DeveshMaheshwari\n",
    "2. https://www.kaggle.com/toregil/welcome-to-deep-learning-cnn-99 Welcome to deep learning (CNN 99%) by Peter Grenholm\n",
    "3. https://machinelearningmastery.com/display-deep-learning-model-training-history-in-keras/ Display Deep Learning Model Training History in Keras by Jason Brownlee\n",
    "4. https://machinelearningmastery.com/evaluate-performance-deep-learning-models-keras/ Evaluate the Performance Of Deep Learning Models in Keras by Jason Brownlee\n",
    "5. https://machinelearningmastery.com/check-point-deep-learning-models-keras/ Add callbacks for best evaluation"
   ]
  },
  {
   "cell_type": "code",
   "execution_count": 1,
   "metadata": {},
   "outputs": [],
   "source": [
    "import numpy as np\n",
    "from sklearn.model_selection import train_test_split\n",
    "from os.path import join as opj\n",
    "from matplotlib import pyplot as plt\n",
    "from mpl_toolkits.mplot3d import Axes3D\n",
    "import pylab\n",
    "from scipy.ndimage.filters import median_filter\n",
    "plt.rcParams['figure.figsize'] = 10, 10\n",
    "%matplotlib inline"
   ]
  },
  {
   "cell_type": "code",
   "execution_count": 2,
   "metadata": {},
   "outputs": [],
   "source": [
    "X_train_rotate = np.load(\"/home/ubuntu/X_train_rotate.npy\")\n",
    "target_train = np.load(\"/home/ubuntu/target_train.npy\")"
   ]
  },
  {
   "cell_type": "code",
   "execution_count": 3,
   "metadata": {},
   "outputs": [
    {
     "name": "stdout",
     "output_type": "stream",
     "text": [
      "(4812, 75, 75, 2)\n",
      "(4812,)\n"
     ]
    }
   ],
   "source": [
    "print(X_train_rotate.shape)\n",
    "print(target_train.shape)"
   ]
  },
  {
   "cell_type": "code",
   "execution_count": 4,
   "metadata": {},
   "outputs": [
    {
     "name": "stderr",
     "output_type": "stream",
     "text": [
      "Using TensorFlow backend.\n",
      "/home/ubuntu/anaconda3/envs/tensorflow_p36/lib/python3.6/importlib/_bootstrap.py:219: RuntimeWarning: compiletime version 3.5 of module 'tensorflow.python.framework.fast_tensor_util' does not match runtime version 3.6\n",
      "  return f(*args, **kwds)\n"
     ]
    }
   ],
   "source": [
    "import keras\n",
    "from matplotlib import pyplot\n",
    "from keras.preprocessing.image import ImageDataGenerator\n",
    "from keras.models import Sequential\n",
    "from keras.layers import Conv2D, MaxPooling2D, Dense, Dropout, Input, Flatten, Activation, BatchNormalization\n",
    "from keras.layers import GlobalMaxPooling2D\n",
    "from keras.layers.normalization import BatchNormalization\n",
    "from keras.layers.merge import Concatenate\n",
    "from keras.models import Model\n",
    "from keras import initializers\n",
    "from keras.optimizers import Adam\n",
    "from keras.callbacks import ModelCheckpoint, Callback, EarlyStopping"
   ]
  },
  {
   "cell_type": "code",
   "execution_count": 17,
   "metadata": {},
   "outputs": [],
   "source": [
    "#define our model\n",
    "def getModel():\n",
    "    #Building the model\n",
    "    gmodel=Sequential()\n",
    "    #Conv Layer 1\n",
    "    gmodel.add(Conv2D(64, kernel_size=(3, 3),activation='relu', input_shape=(75, 75, 2)))\n",
    "    gmodel.add(BatchNormalization())\n",
    "    gmodel.add(Conv2D(64, kernel_size=(3, 3),activation='relu'))\n",
    "    gmodel.add(BatchNormalization())\n",
    "    gmodel.add(MaxPooling2D(pool_size=(2, 2), strides=(2, 2)))\n",
    "    gmodel.add(Dropout(0.2))\n",
    "\n",
    "    gmodel.add(Conv2D(64, kernel_size=(3, 3),activation='relu'))\n",
    "    gmodel.add(BatchNormalization())\n",
    "    gmodel.add(Conv2D(64, kernel_size=(3, 3),activation='relu'))\n",
    "    gmodel.add(BatchNormalization())\n",
    "    gmodel.add(MaxPooling2D(pool_size=(2, 2), strides=(2, 2)))\n",
    "    gmodel.add(Dropout(0.2))\n",
    "    \n",
    "    #Flatten the data for upcoming dense layers\n",
    "    gmodel.add(Flatten())\n",
    "\n",
    "    #Dense Layers\n",
    "    gmodel.add(Dense(512))\n",
    "    gmodel.add(Activation('relu'))\n",
    "    gmodel.add(Dropout(0.2))\n",
    "\n",
    "    #Dense Layer 2\n",
    "    gmodel.add(Dense(256))\n",
    "    gmodel.add(Activation('relu'))\n",
    "    gmodel.add(Dropout(0.2))\n",
    "\n",
    "    #Sigmoid Layer\n",
    "    gmodel.add(Dense(1))\n",
    "    gmodel.add(Activation('sigmoid'))\n",
    "\n",
    "    mypotim=Adam(lr=0.001, beta_1=0.9, beta_2=0.999, epsilon=1e-08, decay=0.0)\n",
    "    gmodel.compile(loss='binary_crossentropy',\n",
    "                  optimizer=mypotim,\n",
    "                  metrics=['accuracy'])\n",
    "    gmodel.summary()\n",
    "    return gmodel\n",
    "\n",
    "\n",
    "def get_callbacks(filepath, patience=2):\n",
    "    es = EarlyStopping('val_loss', patience=patience, mode=\"min\")\n",
    "    msave = ModelCheckpoint(filepath, save_best_only=True)\n",
    "    return [es, msave]\n",
    "\n",
    "\n",
    "#file_path = \".model_weights.hdf5\"\n",
    "#callbacks = get_callbacks(filepath=file_path, patience=5)\n",
    "\n",
    "#filepath=\"weights-improvement-{epoch:02d}-{val_acc:.2f}.hdf5\"\n",
    "#checkpoint = ModelCheckpoint(filepath, monitor='val_acc', verbose=1, save_best_only=True, mode='max')\n",
    "#callbacks_list = [checkpoint]\n",
    "\n",
    "filepath=\"weights.best.hdf5\"\n",
    "checkpoint = ModelCheckpoint(filepath, monitor='val_loss', verbose=1, save_best_only=True, mode='min')\n",
    "callbacks_list = [checkpoint]"
   ]
  },
  {
   "cell_type": "code",
   "execution_count": 6,
   "metadata": {},
   "outputs": [],
   "source": [
    "import timeit\n",
    "start = timeit.default_timer()"
   ]
  },
  {
   "cell_type": "code",
   "execution_count": 20,
   "metadata": {},
   "outputs": [
    {
     "name": "stdout",
     "output_type": "stream",
     "text": [
      "_________________________________________________________________\n",
      "Layer (type)                 Output Shape              Param #   \n",
      "=================================================================\n",
      "conv2d_17 (Conv2D)           (None, 73, 73, 64)        1216      \n",
      "_________________________________________________________________\n",
      "batch_normalization_17 (Batc (None, 73, 73, 64)        256       \n",
      "_________________________________________________________________\n",
      "conv2d_18 (Conv2D)           (None, 71, 71, 64)        36928     \n",
      "_________________________________________________________________\n",
      "batch_normalization_18 (Batc (None, 71, 71, 64)        256       \n",
      "_________________________________________________________________\n",
      "max_pooling2d_9 (MaxPooling2 (None, 35, 35, 64)        0         \n",
      "_________________________________________________________________\n",
      "dropout_17 (Dropout)         (None, 35, 35, 64)        0         \n",
      "_________________________________________________________________\n",
      "conv2d_19 (Conv2D)           (None, 33, 33, 64)        36928     \n",
      "_________________________________________________________________\n",
      "batch_normalization_19 (Batc (None, 33, 33, 64)        256       \n",
      "_________________________________________________________________\n",
      "conv2d_20 (Conv2D)           (None, 31, 31, 64)        36928     \n",
      "_________________________________________________________________\n",
      "batch_normalization_20 (Batc (None, 31, 31, 64)        256       \n",
      "_________________________________________________________________\n",
      "max_pooling2d_10 (MaxPooling (None, 15, 15, 64)        0         \n",
      "_________________________________________________________________\n",
      "dropout_18 (Dropout)         (None, 15, 15, 64)        0         \n",
      "_________________________________________________________________\n",
      "flatten_5 (Flatten)          (None, 14400)             0         \n",
      "_________________________________________________________________\n",
      "dense_13 (Dense)             (None, 512)               7373312   \n",
      "_________________________________________________________________\n",
      "activation_13 (Activation)   (None, 512)               0         \n",
      "_________________________________________________________________\n",
      "dropout_19 (Dropout)         (None, 512)               0         \n",
      "_________________________________________________________________\n",
      "dense_14 (Dense)             (None, 256)               131328    \n",
      "_________________________________________________________________\n",
      "activation_14 (Activation)   (None, 256)               0         \n",
      "_________________________________________________________________\n",
      "dropout_20 (Dropout)         (None, 256)               0         \n",
      "_________________________________________________________________\n",
      "dense_15 (Dense)             (None, 1)                 257       \n",
      "_________________________________________________________________\n",
      "activation_15 (Activation)   (None, 1)                 0         \n",
      "=================================================================\n",
      "Total params: 7,617,921\n",
      "Trainable params: 7,617,409\n",
      "Non-trainable params: 512\n",
      "_________________________________________________________________\n",
      "Epoch 1/10\n",
      "3849/3849 [==============================] - 15s 4ms/step - loss: 0.8093 - acc: 0.7241\n",
      "Epoch 2/10\n",
      "  48/3849 [..............................] - ETA: 13s - loss: 0.3348 - acc: 0.8542"
     ]
    },
    {
     "name": "stderr",
     "output_type": "stream",
     "text": [
      "/home/ubuntu/anaconda3/envs/tensorflow_p36/lib/python3.6/site-packages/keras/callbacks.py:403: RuntimeWarning: Can save best model only with val_loss available, skipping.\n",
      "  'skipping.' % (self.monitor), RuntimeWarning)\n"
     ]
    },
    {
     "name": "stdout",
     "output_type": "stream",
     "text": [
      "3849/3849 [==============================] - 14s 4ms/step - loss: 0.4253 - acc: 0.8106\n",
      "Epoch 3/10\n",
      "3849/3849 [==============================] - 14s 4ms/step - loss: 0.3610 - acc: 0.8446\n",
      "Epoch 4/10\n",
      "3849/3849 [==============================] - 14s 4ms/step - loss: 0.3028 - acc: 0.8732\n",
      "Epoch 5/10\n",
      "3849/3849 [==============================] - 14s 4ms/step - loss: 0.3239 - acc: 0.8735\n",
      "Epoch 6/10\n",
      "3849/3849 [==============================] - 14s 4ms/step - loss: 0.2753 - acc: 0.8891\n",
      "Epoch 7/10\n",
      "3849/3849 [==============================] - 14s 4ms/step - loss: 0.2332 - acc: 0.9008\n",
      "Epoch 8/10\n",
      "3849/3849 [==============================] - 14s 4ms/step - loss: 0.2223 - acc: 0.9111\n",
      "Epoch 9/10\n",
      "3849/3849 [==============================] - 14s 4ms/step - loss: 0.1891 - acc: 0.9208\n",
      "Epoch 10/10\n",
      "3849/3849 [==============================] - 14s 4ms/step - loss: 0.2316 - acc: 0.9158\n",
      "963/963 [==============================] - 1s 1ms/step\n",
      "0.480978467683\n",
      "Epoch 1/10\n",
      "3849/3849 [==============================] - 14s 4ms/step - loss: 0.2066 - acc: 0.9122\n",
      "Epoch 2/10\n",
      "3849/3849 [==============================] - 14s 4ms/step - loss: 0.2383 - acc: 0.9135\n",
      "Epoch 3/10\n",
      "3849/3849 [==============================] - 14s 4ms/step - loss: 0.1957 - acc: 0.9187\n",
      "Epoch 4/10\n",
      "3849/3849 [==============================] - 14s 4ms/step - loss: 0.1376 - acc: 0.9506\n",
      "Epoch 5/10\n",
      "3849/3849 [==============================] - 14s 4ms/step - loss: 0.0965 - acc: 0.9641\n",
      "Epoch 6/10\n",
      "3849/3849 [==============================] - 14s 4ms/step - loss: 0.1152 - acc: 0.9615\n",
      "Epoch 7/10\n",
      "3849/3849 [==============================] - 14s 4ms/step - loss: 0.0760 - acc: 0.9758\n",
      "Epoch 8/10\n",
      "3849/3849 [==============================] - 14s 4ms/step - loss: 0.0750 - acc: 0.9719\n",
      "Epoch 9/10\n",
      "3849/3849 [==============================] - 14s 4ms/step - loss: 0.0536 - acc: 0.9813\n",
      "Epoch 10/10\n",
      "3849/3849 [==============================] - 14s 4ms/step - loss: 0.0409 - acc: 0.9855\n",
      "963/963 [==============================] - 1s 900us/step\n",
      "0.259106477528\n",
      "Epoch 1/10\n",
      "3849/3849 [==============================] - 14s 4ms/step - loss: 0.1265 - acc: 0.9543\n",
      "Epoch 2/10\n",
      "3849/3849 [==============================] - 14s 4ms/step - loss: 0.0640 - acc: 0.9753\n",
      "Epoch 3/10\n",
      "3849/3849 [==============================] - 14s 4ms/step - loss: 0.0648 - acc: 0.9800\n",
      "Epoch 4/10\n",
      "3849/3849 [==============================] - 14s 4ms/step - loss: 0.0630 - acc: 0.9823\n",
      "Epoch 5/10\n",
      "3849/3849 [==============================] - 14s 4ms/step - loss: 0.0509 - acc: 0.9886\n",
      "Epoch 6/10\n",
      "3849/3849 [==============================] - 14s 4ms/step - loss: 0.0845 - acc: 0.9797\n",
      "Epoch 7/10\n",
      "3849/3849 [==============================] - 14s 4ms/step - loss: 0.0298 - acc: 0.9927\n",
      "Epoch 8/10\n",
      "3849/3849 [==============================] - 14s 4ms/step - loss: 0.0396 - acc: 0.9893\n",
      "Epoch 9/10\n",
      "3849/3849 [==============================] - 14s 4ms/step - loss: 0.0355 - acc: 0.9893\n",
      "Epoch 10/10\n",
      "3849/3849 [==============================] - 14s 4ms/step - loss: 0.0362 - acc: 0.9912\n",
      "963/963 [==============================] - 1s 895us/step\n",
      "0.380770089712\n",
      "Epoch 1/10\n",
      "3850/3850 [==============================] - 14s 4ms/step - loss: 0.0687 - acc: 0.9800\n",
      "Epoch 2/10\n",
      "3850/3850 [==============================] - 14s 4ms/step - loss: 0.0468 - acc: 0.9865\n",
      "Epoch 3/10\n",
      "3850/3850 [==============================] - 14s 4ms/step - loss: 0.0183 - acc: 0.9932\n",
      "Epoch 4/10\n",
      "3850/3850 [==============================] - 14s 4ms/step - loss: 0.0409 - acc: 0.9875\n",
      "Epoch 5/10\n",
      "3850/3850 [==============================] - 14s 4ms/step - loss: 0.0189 - acc: 0.9914\n",
      "Epoch 6/10\n",
      "3850/3850 [==============================] - 14s 4ms/step - loss: 0.0312 - acc: 0.9901\n",
      "Epoch 7/10\n",
      "3850/3850 [==============================] - 14s 4ms/step - loss: 0.0492 - acc: 0.9894\n",
      "Epoch 8/10\n",
      "3850/3850 [==============================] - 14s 4ms/step - loss: 0.0554 - acc: 0.9886\n",
      "Epoch 9/10\n",
      "3850/3850 [==============================] - 14s 4ms/step - loss: 0.0142 - acc: 0.9958\n",
      "Epoch 10/10\n",
      "3850/3850 [==============================] - 14s 4ms/step - loss: 0.0289 - acc: 0.9917\n",
      "962/962 [==============================] - 1s 900us/step\n",
      "1.30504022269\n",
      "Epoch 1/10\n",
      "3851/3851 [==============================] - 14s 4ms/step - loss: 0.0292 - acc: 0.9904\n",
      "Epoch 2/10\n",
      "3851/3851 [==============================] - 14s 4ms/step - loss: 0.0141 - acc: 0.9966\n",
      "Epoch 3/10\n",
      "3851/3851 [==============================] - 14s 4ms/step - loss: 0.0259 - acc: 0.9920\n",
      "Epoch 4/10\n",
      "3851/3851 [==============================] - 14s 4ms/step - loss: 0.0100 - acc: 0.9977\n",
      "Epoch 5/10\n",
      "3851/3851 [==============================] - 14s 4ms/step - loss: 0.0362 - acc: 0.9909\n",
      "Epoch 6/10\n",
      "3851/3851 [==============================] - 14s 4ms/step - loss: 0.0405 - acc: 0.9901\n",
      "Epoch 7/10\n",
      "3851/3851 [==============================] - 14s 4ms/step - loss: 0.0272 - acc: 0.9961\n",
      "Epoch 8/10\n",
      "3851/3851 [==============================] - 14s 4ms/step - loss: 0.0284 - acc: 0.9940\n",
      "Epoch 9/10\n",
      "3851/3851 [==============================] - 14s 4ms/step - loss: 0.0542 - acc: 0.9878\n",
      "Epoch 10/10\n",
      "3851/3851 [==============================] - 14s 4ms/step - loss: 0.0627 - acc: 0.9865\n",
      "961/961 [==============================] - 1s 898us/step\n",
      "1.07670936411\n"
     ]
    },
    {
     "ename": "NameError",
     "evalue": "name 'numpy' is not defined",
     "output_type": "error",
     "traceback": [
      "\u001b[0;31m---------------------------------------------------------------------------\u001b[0m",
      "\u001b[0;31mNameError\u001b[0m                                 Traceback (most recent call last)",
      "\u001b[0;32m<ipython-input-20-37a91d9a0dc0>\u001b[0m in \u001b[0;36m<module>\u001b[0;34m()\u001b[0m\n\u001b[1;32m     16\u001b[0m     \u001b[0mcvscores\u001b[0m\u001b[0;34m.\u001b[0m\u001b[0mappend\u001b[0m\u001b[0;34m(\u001b[0m\u001b[0mscores\u001b[0m\u001b[0;34m[\u001b[0m\u001b[0;36m0\u001b[0m\u001b[0;34m]\u001b[0m\u001b[0;34m*\u001b[0m\u001b[0;36m100\u001b[0m\u001b[0;34m)\u001b[0m\u001b[0;34m\u001b[0m\u001b[0m\n\u001b[1;32m     17\u001b[0m \u001b[0;34m\u001b[0m\u001b[0m\n\u001b[0;32m---> 18\u001b[0;31m \u001b[0mprint\u001b[0m\u001b[0;34m(\u001b[0m\u001b[0;34m\"%.2f%% (+/- %.2f%%)\"\u001b[0m \u001b[0;34m%\u001b[0m \u001b[0;34m(\u001b[0m\u001b[0mnumpy\u001b[0m\u001b[0;34m.\u001b[0m\u001b[0mmean\u001b[0m\u001b[0;34m(\u001b[0m\u001b[0mcvscores\u001b[0m\u001b[0;34m)\u001b[0m\u001b[0;34m,\u001b[0m \u001b[0mnumpy\u001b[0m\u001b[0;34m.\u001b[0m\u001b[0mstd\u001b[0m\u001b[0;34m(\u001b[0m\u001b[0mcvscores\u001b[0m\u001b[0;34m)\u001b[0m\u001b[0;34m)\u001b[0m\u001b[0;34m)\u001b[0m\u001b[0;34m\u001b[0m\u001b[0m\n\u001b[0m",
      "\u001b[0;31mNameError\u001b[0m: name 'numpy' is not defined"
     ]
    }
   ],
   "source": [
    "from sklearn.model_selection import StratifiedKFold\n",
    "kfold = StratifiedKFold(n_splits=5, shuffle=True)\n",
    "cvscores = []\n",
    "\n",
    "import os\n",
    "gmodel=getModel()\n",
    "for train_index, test_index in kfold.split(X_train_rotate, target_train):\n",
    "    gmodel.fit(X_train_rotate[train_index], target_train[train_index], \n",
    "               batch_size = 24,\n",
    "               epochs = 10,\n",
    "               verbose = 1,\n",
    "               callbacks=callbacks_list)\n",
    "    \n",
    "    scores = gmodel.evaluate(X_train_rotate[test_index], target_train[test_index])\n",
    "    print (scores[0])\n",
    "    cvscores.append(scores[0]*100)\n",
    "\n",
    "print(\"%.2f%% (+/- %.2f%%)\" % (numpy.mean(cvscores), numpy.std(cvscores))) \n"
   ]
  },
  {
   "cell_type": "code",
   "execution_count": null,
   "metadata": {},
   "outputs": [],
   "source": [
    "'''X_train_cv, X_valid, y_train_cv, y_valid = train_test_split(X_train_rotate, target_train, random_state=1, train_size=0.9)\n",
    "#Without denoising, core features.\n",
    "\n",
    "import os\n",
    "gmodel=getModel()\n",
    "history = gmodel.fit(X_train_cv, y_train_cv,\n",
    "          batch_size=24,\n",
    "          epochs=20,\n",
    "          verbose=1,\n",
    "          validation_data=(X_valid, y_valid),\n",
    "          callbacks=callbacks_list)'''"
   ]
  },
  {
   "cell_type": "code",
   "execution_count": 21,
   "metadata": {},
   "outputs": [
    {
     "name": "stdout",
     "output_type": "stream",
     "text": [
      "3133.3030322449995\n"
     ]
    }
   ],
   "source": [
    "stop = timeit.default_timer()\n",
    "print (stop-start)"
   ]
  },
  {
   "cell_type": "code",
   "execution_count": 22,
   "metadata": {},
   "outputs": [
    {
     "name": "stdout",
     "output_type": "stream",
     "text": [
      "4812/4812 [==============================] - 4s 915us/step\n",
      "Test loss: 0.985268321496\n",
      "Test accuracy: 0.846217788861\n"
     ]
    }
   ],
   "source": [
    "#gmodel.load_weights(filepath=filepath)\n",
    "score = gmodel.evaluate(X_train_rotate, target_train, verbose=1)\n",
    "print('Test loss:', score[0])\n",
    "print('Test accuracy:', score[1])"
   ]
  },
  {
   "cell_type": "code",
   "execution_count": 11,
   "metadata": {},
   "outputs": [
    {
     "ename": "NameError",
     "evalue": "name 'history' is not defined",
     "output_type": "error",
     "traceback": [
      "\u001b[0;31m---------------------------------------------------------------------------\u001b[0m",
      "\u001b[0;31mNameError\u001b[0m                                 Traceback (most recent call last)",
      "\u001b[0;32m<ipython-input-11-9a91e1d728fc>\u001b[0m in \u001b[0;36m<module>\u001b[0;34m()\u001b[0m\n\u001b[0;32m----> 1\u001b[0;31m \u001b[0mprint\u001b[0m\u001b[0;34m(\u001b[0m\u001b[0mhistory\u001b[0m\u001b[0;34m.\u001b[0m\u001b[0mhistory\u001b[0m\u001b[0;34m.\u001b[0m\u001b[0mkeys\u001b[0m\u001b[0;34m(\u001b[0m\u001b[0;34m)\u001b[0m\u001b[0;34m)\u001b[0m\u001b[0;34m\u001b[0m\u001b[0m\n\u001b[0m\u001b[1;32m      2\u001b[0m \u001b[0;31m# summarize history for accuracy\u001b[0m\u001b[0;34m\u001b[0m\u001b[0;34m\u001b[0m\u001b[0m\n\u001b[1;32m      3\u001b[0m \u001b[0mplt\u001b[0m\u001b[0;34m.\u001b[0m\u001b[0mplot\u001b[0m\u001b[0;34m(\u001b[0m\u001b[0mhistory\u001b[0m\u001b[0;34m.\u001b[0m\u001b[0mhistory\u001b[0m\u001b[0;34m[\u001b[0m\u001b[0;34m'acc'\u001b[0m\u001b[0;34m]\u001b[0m\u001b[0;34m)\u001b[0m\u001b[0;34m\u001b[0m\u001b[0m\n\u001b[1;32m      4\u001b[0m \u001b[0mplt\u001b[0m\u001b[0;34m.\u001b[0m\u001b[0mplot\u001b[0m\u001b[0;34m(\u001b[0m\u001b[0mhistory\u001b[0m\u001b[0;34m.\u001b[0m\u001b[0mhistory\u001b[0m\u001b[0;34m[\u001b[0m\u001b[0;34m'val_acc'\u001b[0m\u001b[0;34m]\u001b[0m\u001b[0;34m)\u001b[0m\u001b[0;34m\u001b[0m\u001b[0m\n\u001b[1;32m      5\u001b[0m \u001b[0mplt\u001b[0m\u001b[0;34m.\u001b[0m\u001b[0mtitle\u001b[0m\u001b[0;34m(\u001b[0m\u001b[0;34m'model accuracy'\u001b[0m\u001b[0;34m)\u001b[0m\u001b[0;34m\u001b[0m\u001b[0m\n",
      "\u001b[0;31mNameError\u001b[0m: name 'history' is not defined"
     ]
    }
   ],
   "source": [
    "'''print(history.history.keys())\n",
    "# summarize history for accuracy\n",
    "plt.plot(history.history['acc'])\n",
    "plt.plot(history.history['val_acc'])\n",
    "plt.title('model accuracy')\n",
    "plt.ylabel('accuracy')\n",
    "plt.xlabel('epoch')\n",
    "plt.legend(['train', 'test'], loc='upper left')\n",
    "plt.show()\n",
    "# summarize history for loss\n",
    "plt.plot(history.history['loss'])\n",
    "plt.plot(history.history['val_loss'])\n",
    "plt.title('model loss')\n",
    "plt.ylabel('loss')\n",
    "plt.xlabel('epoch')\n",
    "plt.legend(['train', 'test'], loc='upper left')\n",
    "plt.show()'''"
   ]
  },
  {
   "cell_type": "code",
   "execution_count": 12,
   "metadata": {},
   "outputs": [],
   "source": [
    "#import testing data\n",
    "X_test = np.load(\"/home/ubuntu/X_test.npy\")\n",
    "test_id = np.load('/home/ubuntu/test_id.npy')\n",
    "predicted_test=gmodel.predict_proba(X_test)"
   ]
  },
  {
   "cell_type": "code",
   "execution_count": 13,
   "metadata": {},
   "outputs": [],
   "source": [
    "import pandas as pd\n",
    "submission = pd.DataFrame()\n",
    "submission['id']=test_id\n",
    "submission['is_iceberg']=predicted_test.reshape((predicted_test.shape[0]))\n",
    "submission.to_csv('sub.csv', index=False)"
   ]
  },
  {
   "cell_type": "code",
   "execution_count": null,
   "metadata": {},
   "outputs": [],
   "source": []
  }
 ],
 "metadata": {
  "kernelspec": {
   "display_name": "Environment (conda_tensorflow_p36)",
   "language": "python",
   "name": "conda_tensorflow_p36"
  },
  "language_info": {
   "codemirror_mode": {
    "name": "ipython",
    "version": 3
   },
   "file_extension": ".py",
   "mimetype": "text/x-python",
   "name": "python",
   "nbconvert_exporter": "python",
   "pygments_lexer": "ipython3",
   "version": "3.6.3"
  }
 },
 "nbformat": 4,
 "nbformat_minor": 2
}
