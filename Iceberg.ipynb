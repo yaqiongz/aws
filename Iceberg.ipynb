{
 "cells": [
  {
   "cell_type": "code",
   "execution_count": 1,
   "metadata": {},
   "outputs": [],
   "source": [
    "import numpy as np\n",
    "import pandas as pd\n",
    "from sklearn.model_selection import train_test_split\n",
    "from os.path import join as opj\n",
    "from matplotlib import pyplot as plt\n",
    "from mpl_toolkits.mplot3d import Axes3D\n",
    "import pylab\n",
    "plt.rcParams['figure.figsize'] = 10, 10\n",
    "%matplotlib inline"
   ]
  },
  {
   "cell_type": "code",
   "execution_count": 2,
   "metadata": {},
   "outputs": [],
   "source": [
    "#import training data\n",
    "X_train_rotate = np.load(\"X_train_rotate.npy\")\n",
    "target_train = np.load(\"target_train.npy\")"
   ]
  },
  {
   "cell_type": "code",
   "execution_count": 4,
   "metadata": {},
   "outputs": [
    {
     "name": "stderr",
     "output_type": "stream",
     "text": [
      "Using TensorFlow backend.\n",
      "/home/ubuntu/anaconda3/envs/tensorflow_p36/lib/python3.6/importlib/_bootstrap.py:219: RuntimeWarning: compiletime version 3.5 of module 'tensorflow.python.framework.fast_tensor_util' does not match runtime version 3.6\n",
      "  return f(*args, **kwds)\n"
     ]
    }
   ],
   "source": [
    "#Import Keras.\n",
    "from matplotlib import pyplot\n",
    "from keras.preprocessing.image import ImageDataGenerator\n",
    "from keras.models import Sequential\n",
    "from keras.layers import Conv2D, MaxPooling2D, Dense, Dropout, Input, Flatten, Activation, BatchNormalization\n",
    "from keras.layers import GlobalMaxPooling2D\n",
    "from keras.layers.normalization import BatchNormalization\n",
    "from keras.layers.merge import Concatenate\n",
    "from keras.models import Model\n",
    "from keras import initializers\n",
    "from keras.optimizers import Adam\n",
    "from keras.callbacks import ModelCheckpoint, Callback, EarlyStopping"
   ]
  },
  {
   "cell_type": "code",
   "execution_count": 5,
   "metadata": {},
   "outputs": [],
   "source": [
    "#define our model\n",
    "def getModel():\n",
    "    #Building the model\n",
    "    gmodel=Sequential()\n",
    "    #Conv Layer 1\n",
    "    gmodel.add(Conv2D(64, kernel_size=(3, 3),activation='relu', input_shape=(75, 75, 2)))\n",
    "    gmodel.add(BatchNormalization())\n",
    "    gmodel.add(Conv2D(64, kernel_size=(3, 3),activation='relu'))\n",
    "    gmodel.add(BatchNormalization())\n",
    "    gmodel.add(MaxPooling2D(pool_size=(2, 2), strides=(2, 2)))\n",
    "    gmodel.add(Dropout(0.2))\n",
    "\n",
    "    gmodel.add(Conv2D(64, kernel_size=(3, 3),activation='relu'))\n",
    "    gmodel.add(BatchNormalization())\n",
    "    gmodel.add(Conv2D(64, kernel_size=(3, 3),activation='relu'))\n",
    "    gmodel.add(BatchNormalization())\n",
    "    gmodel.add(MaxPooling2D(pool_size=(2, 2), strides=(2, 2)))\n",
    "    gmodel.add(Dropout(0.2))\n",
    "    \n",
    "    #Flatten the data for upcoming dense layers\n",
    "    gmodel.add(Flatten())\n",
    "\n",
    "    #Dense Layers\n",
    "    gmodel.add(Dense(512))\n",
    "    gmodel.add(Activation('relu'))\n",
    "    gmodel.add(Dropout(0.2))\n",
    "\n",
    "    #Dense Layer 2\n",
    "    gmodel.add(Dense(256))\n",
    "    gmodel.add(Activation('relu'))\n",
    "    gmodel.add(Dropout(0.2))\n",
    "\n",
    "    #Sigmoid Layer\n",
    "    gmodel.add(Dense(1))\n",
    "    gmodel.add(Activation('sigmoid'))\n",
    "\n",
    "    mypotim=Adam(lr=0.001, beta_1=0.9, beta_2=0.999, epsilon=1e-08, decay=0.0)\n",
    "    gmodel.compile(loss='binary_crossentropy',\n",
    "                  optimizer=mypotim,\n",
    "                  metrics=['accuracy'])\n",
    "    gmodel.summary()\n",
    "    return gmodel\n",
    "\n",
    "\n",
    "def get_callbacks(filepath, patience=2):\n",
    "    es = EarlyStopping('val_loss', patience=patience, mode=\"min\")\n",
    "    msave = ModelCheckpoint(filepath, save_best_only=True)\n",
    "    return [es, msave]\n",
    "\n",
    "\n",
    "file_path = \".model_weights.hdf5\"\n",
    "callbacks = get_callbacks(filepath=file_path, patience=5)"
   ]
  },
  {
   "cell_type": "code",
   "execution_count": 6,
   "metadata": {},
   "outputs": [],
   "source": [
    "import timeit\n",
    "start = timeit.default_timer()"
   ]
  },
  {
   "cell_type": "code",
   "execution_count": 7,
   "metadata": {},
   "outputs": [
    {
     "name": "stderr",
     "output_type": "stream",
     "text": [
      "/home/ubuntu/anaconda3/envs/tensorflow_p36/lib/python3.6/site-packages/sklearn/model_selection/_split.py:2026: FutureWarning: From version 0.21, test_size will always complement train_size unless both are specified.\n",
      "  FutureWarning)\n"
     ]
    },
    {
     "name": "stdout",
     "output_type": "stream",
     "text": [
      "_________________________________________________________________\n",
      "Layer (type)                 Output Shape              Param #   \n",
      "=================================================================\n",
      "conv2d_1 (Conv2D)            (None, 73, 73, 64)        1216      \n",
      "_________________________________________________________________\n",
      "batch_normalization_1 (Batch (None, 73, 73, 64)        256       \n",
      "_________________________________________________________________\n",
      "conv2d_2 (Conv2D)            (None, 71, 71, 64)        36928     \n",
      "_________________________________________________________________\n",
      "batch_normalization_2 (Batch (None, 71, 71, 64)        256       \n",
      "_________________________________________________________________\n",
      "max_pooling2d_1 (MaxPooling2 (None, 35, 35, 64)        0         \n",
      "_________________________________________________________________\n",
      "dropout_1 (Dropout)          (None, 35, 35, 64)        0         \n",
      "_________________________________________________________________\n",
      "conv2d_3 (Conv2D)            (None, 33, 33, 64)        36928     \n",
      "_________________________________________________________________\n",
      "batch_normalization_3 (Batch (None, 33, 33, 64)        256       \n",
      "_________________________________________________________________\n",
      "conv2d_4 (Conv2D)            (None, 31, 31, 64)        36928     \n",
      "_________________________________________________________________\n",
      "batch_normalization_4 (Batch (None, 31, 31, 64)        256       \n",
      "_________________________________________________________________\n",
      "max_pooling2d_2 (MaxPooling2 (None, 15, 15, 64)        0         \n",
      "_________________________________________________________________\n",
      "dropout_2 (Dropout)          (None, 15, 15, 64)        0         \n",
      "_________________________________________________________________\n",
      "flatten_1 (Flatten)          (None, 14400)             0         \n",
      "_________________________________________________________________\n",
      "dense_1 (Dense)              (None, 512)               7373312   \n",
      "_________________________________________________________________\n",
      "activation_1 (Activation)    (None, 512)               0         \n",
      "_________________________________________________________________\n",
      "dropout_3 (Dropout)          (None, 512)               0         \n",
      "_________________________________________________________________\n",
      "dense_2 (Dense)              (None, 256)               131328    \n",
      "_________________________________________________________________\n",
      "activation_2 (Activation)    (None, 256)               0         \n",
      "_________________________________________________________________\n",
      "dropout_4 (Dropout)          (None, 256)               0         \n",
      "_________________________________________________________________\n",
      "dense_3 (Dense)              (None, 1)                 257       \n",
      "_________________________________________________________________\n",
      "activation_3 (Activation)    (None, 1)                 0         \n",
      "=================================================================\n",
      "Total params: 7,617,921\n",
      "Trainable params: 7,617,409\n",
      "Non-trainable params: 512\n",
      "_________________________________________________________________\n",
      "Train on 4330 samples, validate on 482 samples\n",
      "Epoch 1/50\n",
      "4330/4330 [==============================] - 18s 4ms/step - loss: 0.8537 - acc: 0.7060 - val_loss: 0.5288 - val_acc: 0.6846\n",
      "Epoch 2/50\n",
      "4330/4330 [==============================] - 16s 4ms/step - loss: 0.4284 - acc: 0.8125 - val_loss: 0.4939 - val_acc: 0.7697\n",
      "Epoch 3/50\n",
      "4330/4330 [==============================] - 16s 4ms/step - loss: 0.3993 - acc: 0.8381 - val_loss: 0.6834 - val_acc: 0.7199\n",
      "Epoch 4/50\n",
      "4330/4330 [==============================] - 16s 4ms/step - loss: 0.3714 - acc: 0.8568 - val_loss: 0.3154 - val_acc: 0.8568\n",
      "Epoch 5/50\n",
      "4330/4330 [==============================] - 16s 4ms/step - loss: 0.3079 - acc: 0.8637 - val_loss: 0.4117 - val_acc: 0.8216\n",
      "Epoch 6/50\n",
      "4330/4330 [==============================] - 16s 4ms/step - loss: 0.2635 - acc: 0.8924 - val_loss: 0.3436 - val_acc: 0.8444\n",
      "Epoch 7/50\n",
      "4330/4330 [==============================] - 16s 4ms/step - loss: 0.2511 - acc: 0.8977 - val_loss: 0.2790 - val_acc: 0.8900\n",
      "Epoch 8/50\n",
      "4330/4330 [==============================] - 16s 4ms/step - loss: 0.2379 - acc: 0.9044 - val_loss: 0.4643 - val_acc: 0.8091\n",
      "Epoch 9/50\n",
      "4330/4330 [==============================] - 16s 4ms/step - loss: 0.1941 - acc: 0.9192 - val_loss: 0.3584 - val_acc: 0.8734\n",
      "Epoch 10/50\n",
      "4330/4330 [==============================] - 16s 4ms/step - loss: 0.1904 - acc: 0.9233 - val_loss: 0.3017 - val_acc: 0.8610\n",
      "Epoch 11/50\n",
      "4330/4330 [==============================] - 16s 4ms/step - loss: 0.3045 - acc: 0.8824 - val_loss: 0.4196 - val_acc: 0.7925\n",
      "Epoch 12/50\n",
      "4330/4330 [==============================] - 16s 4ms/step - loss: 0.1791 - acc: 0.9284 - val_loss: 0.3320 - val_acc: 0.8548\n",
      "Epoch 13/50\n",
      "4330/4330 [==============================] - 16s 4ms/step - loss: 0.1456 - acc: 0.9476 - val_loss: 0.3486 - val_acc: 0.8714\n",
      "Epoch 14/50\n",
      "4330/4330 [==============================] - 16s 4ms/step - loss: 0.1475 - acc: 0.9522 - val_loss: 0.3384 - val_acc: 0.8776\n",
      "Epoch 15/50\n",
      "4330/4330 [==============================] - 16s 4ms/step - loss: 0.1019 - acc: 0.9630 - val_loss: 0.3289 - val_acc: 0.8880\n",
      "Epoch 16/50\n",
      "4330/4330 [==============================] - 16s 4ms/step - loss: 0.0894 - acc: 0.9688 - val_loss: 0.5374 - val_acc: 0.8361\n",
      "Epoch 17/50\n",
      "4330/4330 [==============================] - 16s 4ms/step - loss: 0.0879 - acc: 0.9758 - val_loss: 0.3951 - val_acc: 0.8755\n",
      "Epoch 18/50\n",
      "4330/4330 [==============================] - 16s 4ms/step - loss: 0.1958 - acc: 0.9580 - val_loss: 0.6729 - val_acc: 0.7780\n",
      "Epoch 19/50\n",
      "4330/4330 [==============================] - 16s 4ms/step - loss: 0.0733 - acc: 0.9778 - val_loss: 0.4891 - val_acc: 0.7905\n",
      "Epoch 20/50\n",
      "4330/4330 [==============================] - 16s 4ms/step - loss: 0.0705 - acc: 0.9788 - val_loss: 0.5196 - val_acc: 0.8506\n",
      "Epoch 21/50\n",
      "4330/4330 [==============================] - 16s 4ms/step - loss: 0.0460 - acc: 0.9831 - val_loss: 0.5950 - val_acc: 0.8237\n",
      "Epoch 22/50\n",
      "4330/4330 [==============================] - 16s 4ms/step - loss: 0.0616 - acc: 0.9808 - val_loss: 0.4193 - val_acc: 0.8817\n",
      "Epoch 23/50\n",
      "4330/4330 [==============================] - 16s 4ms/step - loss: 0.0393 - acc: 0.9919 - val_loss: 0.4533 - val_acc: 0.8900\n",
      "Epoch 24/50\n",
      "4330/4330 [==============================] - 16s 4ms/step - loss: 0.0343 - acc: 0.9901 - val_loss: 0.7265 - val_acc: 0.8361\n",
      "Epoch 25/50\n",
      "4330/4330 [==============================] - 16s 4ms/step - loss: 0.0333 - acc: 0.9882 - val_loss: 0.5417 - val_acc: 0.8714\n",
      "Epoch 26/50\n",
      "4330/4330 [==============================] - 16s 4ms/step - loss: 0.0594 - acc: 0.9836 - val_loss: 0.9489 - val_acc: 0.8465\n",
      "Epoch 27/50\n",
      "4330/4330 [==============================] - 16s 4ms/step - loss: 0.0608 - acc: 0.9845 - val_loss: 0.5444 - val_acc: 0.8651\n",
      "Epoch 28/50\n",
      "4330/4330 [==============================] - 16s 4ms/step - loss: 0.0349 - acc: 0.9878 - val_loss: 0.5762 - val_acc: 0.8589\n",
      "Epoch 29/50\n",
      "4330/4330 [==============================] - 16s 4ms/step - loss: 0.0537 - acc: 0.9822 - val_loss: 0.5280 - val_acc: 0.8361\n",
      "Epoch 30/50\n",
      "4330/4330 [==============================] - 16s 4ms/step - loss: 0.0421 - acc: 0.9887 - val_loss: 0.4743 - val_acc: 0.8651\n",
      "Epoch 31/50\n",
      "4330/4330 [==============================] - 16s 4ms/step - loss: 0.0323 - acc: 0.9912 - val_loss: 0.9423 - val_acc: 0.7967\n",
      "Epoch 32/50\n",
      "4330/4330 [==============================] - 16s 4ms/step - loss: 0.0413 - acc: 0.9880 - val_loss: 0.4767 - val_acc: 0.8734\n",
      "Epoch 33/50\n",
      "4330/4330 [==============================] - 16s 4ms/step - loss: 0.0293 - acc: 0.9924 - val_loss: 0.5628 - val_acc: 0.8776\n",
      "Epoch 34/50\n",
      "4330/4330 [==============================] - 16s 4ms/step - loss: 0.0209 - acc: 0.9940 - val_loss: 0.7708 - val_acc: 0.8672\n",
      "Epoch 35/50\n",
      "4330/4330 [==============================] - 16s 4ms/step - loss: 0.0309 - acc: 0.9924 - val_loss: 0.6391 - val_acc: 0.8568\n",
      "Epoch 36/50\n",
      "4330/4330 [==============================] - 16s 4ms/step - loss: 0.0284 - acc: 0.9924 - val_loss: 0.5301 - val_acc: 0.8776\n",
      "Epoch 37/50\n",
      "4330/4330 [==============================] - 16s 4ms/step - loss: 0.0111 - acc: 0.9961 - val_loss: 0.9620 - val_acc: 0.8216\n",
      "Epoch 38/50\n"
     ]
    },
    {
     "name": "stdout",
     "output_type": "stream",
     "text": [
      "4330/4330 [==============================] - 16s 4ms/step - loss: 0.0340 - acc: 0.9901 - val_loss: 0.6760 - val_acc: 0.8693\n",
      "Epoch 39/50\n",
      "4330/4330 [==============================] - 16s 4ms/step - loss: 0.0297 - acc: 0.9935 - val_loss: 0.7041 - val_acc: 0.8693\n",
      "Epoch 40/50\n",
      "4330/4330 [==============================] - 16s 4ms/step - loss: 0.0411 - acc: 0.9878 - val_loss: 0.5940 - val_acc: 0.8423\n",
      "Epoch 41/50\n",
      "4330/4330 [==============================] - 16s 4ms/step - loss: 0.0466 - acc: 0.9889 - val_loss: 0.7347 - val_acc: 0.8485\n",
      "Epoch 42/50\n",
      "4330/4330 [==============================] - 16s 4ms/step - loss: 0.0321 - acc: 0.9942 - val_loss: 1.1101 - val_acc: 0.8071\n",
      "Epoch 43/50\n",
      "4330/4330 [==============================] - 16s 4ms/step - loss: 0.0230 - acc: 0.9931 - val_loss: 0.7341 - val_acc: 0.8631\n",
      "Epoch 44/50\n",
      "4330/4330 [==============================] - 16s 4ms/step - loss: 0.0249 - acc: 0.9924 - val_loss: 1.0000 - val_acc: 0.8610\n",
      "Epoch 45/50\n",
      "4330/4330 [==============================] - 16s 4ms/step - loss: 0.0153 - acc: 0.9958 - val_loss: 0.9680 - val_acc: 0.8382\n",
      "Epoch 46/50\n",
      "4330/4330 [==============================] - 16s 4ms/step - loss: 0.0163 - acc: 0.9958 - val_loss: 0.7903 - val_acc: 0.8465\n",
      "Epoch 47/50\n",
      "4330/4330 [==============================] - 16s 4ms/step - loss: 0.0203 - acc: 0.9945 - val_loss: 0.6445 - val_acc: 0.8880\n",
      "Epoch 48/50\n",
      "4330/4330 [==============================] - 16s 4ms/step - loss: 0.0103 - acc: 0.9963 - val_loss: 0.8171 - val_acc: 0.8485\n",
      "Epoch 49/50\n",
      "4330/4330 [==============================] - 16s 4ms/step - loss: 0.0210 - acc: 0.9940 - val_loss: 0.6423 - val_acc: 0.8714\n",
      "Epoch 50/50\n",
      "4330/4330 [==============================] - 16s 4ms/step - loss: 0.0180 - acc: 0.9952 - val_loss: 0.6657 - val_acc: 0.8734\n"
     ]
    }
   ],
   "source": [
    "X_train_cv, X_valid, y_train_cv, y_valid = train_test_split(X_train_rotate, target_train, random_state=1, train_size=0.9)\n",
    "#Without denoising, core features.\n",
    "\n",
    "import os\n",
    "gmodel=getModel()\n",
    "history = gmodel.fit(X_train_cv, y_train_cv,\n",
    "          batch_size=24,\n",
    "          epochs=50,\n",
    "          verbose=1,\n",
    "          validation_data=(X_valid, y_valid),\n",
    "          callbacks=None)"
   ]
  },
  {
   "cell_type": "code",
   "execution_count": 8,
   "metadata": {},
   "outputs": [
    {
     "name": "stdout",
     "output_type": "stream",
     "text": [
      "805.0636953149999\n"
     ]
    }
   ],
   "source": [
    "stop = timeit.default_timer()\n",
    "print (stop-start)"
   ]
  },
  {
   "cell_type": "code",
   "execution_count": 9,
   "metadata": {},
   "outputs": [
    {
     "name": "stdout",
     "output_type": "stream",
     "text": [
      "482/482 [==============================] - 1s 1ms/step\n",
      "Test loss: 0.665691006648\n",
      "Test accuracy: 0.873443983402\n"
     ]
    }
   ],
   "source": [
    "#gmodel.load_weights(filepath=file_path)\n",
    "score = gmodel.evaluate(X_valid, y_valid, verbose=1)\n",
    "print('Test loss:', score[0])\n",
    "print('Test accuracy:', score[1])"
   ]
  },
  {
   "cell_type": "code",
   "execution_count": 10,
   "metadata": {},
   "outputs": [
    {
     "name": "stdout",
     "output_type": "stream",
     "text": [
      "dict_keys(['val_loss', 'val_acc', 'loss', 'acc'])\n"
     ]
    },
    {
     "data": {
      "image/png": "[encoded data removed]",
      "text/plain": [
       "<matplotlib.figure.Figure at 0x7f60e00e1780>"
      ]
     },
     "metadata": {},
     "output_type": "display_data"
    },
    {
     "data": {
      "image/png": "[encoded data removed]",
      "text/plain": [
       "<matplotlib.figure.Figure at 0x7f60e00a7748>"
      ]
     },
     "metadata": {},
     "output_type": "display_data"
    }
   ],
   "source": [
    "print(history.history.keys())\n",
    "# summarize history for accuracy\n",
    "plt.plot(history.history['acc'])\n",
    "plt.plot(history.history['val_acc'])\n",
    "plt.title('model accuracy')\n",
    "plt.ylabel('accuracy')\n",
    "plt.xlabel('epoch')\n",
    "plt.legend(['train', 'test'], loc='upper left')\n",
    "plt.show()\n",
    "# summarize history for loss\n",
    "plt.plot(history.history['loss'])\n",
    "plt.plot(history.history['val_loss'])\n",
    "plt.title('model loss')\n",
    "plt.ylabel('loss')\n",
    "plt.xlabel('epoch')\n",
    "plt.legend(['train', 'test'], loc='upper left')\n",
    "plt.show()"
   ]
  },
  {
   "cell_type": "code",
   "execution_count": 11,
   "metadata": {},
   "outputs": [],
   "source": [
    "#import testing data\n",
    "X_test = np.load(\"X_test.npy\")\n",
    "predicted_test=gmodel.predict_proba(X_test)\n",
    "test_id = np.load('test_id.npy')"
   ]
  },
  {
   "cell_type": "code",
   "execution_count": 12,
   "metadata": {},
   "outputs": [],
   "source": [
    "submission = pd.DataFrame()\n",
    "submission['id']=test_id\n",
    "submission['is_iceberg']=predicted_test.reshape((predicted_test.shape[0]))\n",
    "submission.to_csv('sub.csv', index=False)"
   ]
  },
  {
   "cell_type": "code",
   "execution_count": null,
   "metadata": {},
   "outputs": [],
   "source": []
  },
  {
   "cell_type": "code",
   "execution_count": null,
   "metadata": {},
   "outputs": [],
   "source": []
  },
  {
   "cell_type": "code",
   "execution_count": null,
   "metadata": {},
   "outputs": [],
   "source": []
  }
 ],
 "metadata": {
  "kernelspec": {
   "display_name": "Environment (conda_tensorflow_p36)",
   "language": "python",
   "name": "conda_tensorflow_p36"
  },
  "language_info": {
   "codemirror_mode": {
    "name": "ipython",
    "version": 3
   },
   "file_extension": ".py",
   "mimetype": "text/x-python",
   "name": "python",
   "nbconvert_exporter": "python",
   "pygments_lexer": "ipython3",
   "version": "3.6.3"
  }
 },
 "nbformat": 4,
 "nbformat_minor": 2
}
