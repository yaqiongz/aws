{
 "cells": [
  {
   "cell_type": "markdown",
   "metadata": {},
   "source": [
    "This program read the preprocessed data, in .npy format\n",
    "\n",
    "use Convnet to train a model"
   ]
  },
  {
   "cell_type": "markdown",
   "metadata": {},
   "source": [
    "This jupyter notebook is built with these previous contributors:\n",
    "1. https://www.kaggle.com/devm2024/keras-model-for-beginners-0-210-on-lb-eda-r-d Keras Model for Beginners (0.210 on LB)+EDA+R&D by DeveshMaheshwari\n",
    "2. https://www.kaggle.com/toregil/welcome-to-deep-learning-cnn-99 Welcome to deep learning (CNN 99%) by Peter Grenholm\n",
    "3. https://machinelearningmastery.com/display-deep-learning-model-training-history-in-keras/ Display Deep Learning Model Training History in Keras by Jason Brownlee\n",
    "4. https://machinelearningmastery.com/evaluate-performance-deep-learning-models-keras/ Evaluate the Performance Of Deep Learning Models in Keras by Jason Brownlee\n",
    "5. https://machinelearningmastery.com/check-point-deep-learning-models-keras/ Add callbacks for best evaluation"
   ]
  },
  {
   "cell_type": "code",
   "execution_count": 1,
   "metadata": {},
   "outputs": [],
   "source": [
    "import numpy as np\n",
    "from sklearn.model_selection import train_test_split\n",
    "from os.path import join as opj\n",
    "from matplotlib import pyplot as plt\n",
    "from mpl_toolkits.mplot3d import Axes3D\n",
    "import pylab\n",
    "from scipy.ndimage.filters import median_filter\n",
    "plt.rcParams['figure.figsize'] = 10, 10\n",
    "%matplotlib inline"
   ]
  },
  {
   "cell_type": "code",
   "execution_count": 2,
   "metadata": {},
   "outputs": [],
   "source": [
    "X_train_rotate = np.load(\"/home/ubuntu/X_train_rotate.npy\")\n",
    "target_train = np.load(\"/home/ubuntu/target_train.npy\")"
   ]
  },
  {
   "cell_type": "code",
   "execution_count": 3,
   "metadata": {},
   "outputs": [
    {
     "name": "stdout",
     "output_type": "stream",
     "text": [
      "(4812, 75, 75, 2)\n",
      "(4812,)\n"
     ]
    }
   ],
   "source": [
    "print(X_train_rotate.shape)\n",
    "print(target_train.shape)"
   ]
  },
  {
   "cell_type": "code",
   "execution_count": 4,
   "metadata": {},
   "outputs": [
    {
     "name": "stderr",
     "output_type": "stream",
     "text": [
      "Using TensorFlow backend.\n",
      "/home/ubuntu/anaconda3/envs/tensorflow_p36/lib/python3.6/importlib/_bootstrap.py:219: RuntimeWarning: compiletime version 3.5 of module 'tensorflow.python.framework.fast_tensor_util' does not match runtime version 3.6\n",
      "  return f(*args, **kwds)\n"
     ]
    }
   ],
   "source": [
    "import keras\n",
    "from matplotlib import pyplot\n",
    "from keras.preprocessing.image import ImageDataGenerator\n",
    "from keras.models import Sequential\n",
    "from keras.layers import Conv2D, MaxPooling2D, Dense, Dropout, Input, Flatten, Activation, BatchNormalization\n",
    "from keras.layers import GlobalMaxPooling2D\n",
    "from keras.layers.normalization import BatchNormalization\n",
    "from keras.layers.merge import Concatenate\n",
    "from keras.models import Model\n",
    "from keras import initializers\n",
    "from keras.optimizers import Adam\n",
    "from keras.callbacks import ModelCheckpoint, Callback, EarlyStopping"
   ]
  },
  {
   "cell_type": "code",
   "execution_count": 5,
   "metadata": {},
   "outputs": [],
   "source": [
    "#define our model\n",
    "def getModel():\n",
    "    #Building the model\n",
    "    gmodel=Sequential()\n",
    "    #Conv Layer 1\n",
    "    gmodel.add(Conv2D(64, kernel_size=(3, 3),activation='relu', input_shape=(75, 75, 2)))\n",
    "    gmodel.add(BatchNormalization())\n",
    "    gmodel.add(Conv2D(64, kernel_size=(3, 3),activation='relu'))\n",
    "    gmodel.add(BatchNormalization())\n",
    "    gmodel.add(MaxPooling2D(pool_size=(2, 2), strides=(2, 2)))\n",
    "    gmodel.add(Dropout(0.2))\n",
    "\n",
    "    gmodel.add(Conv2D(64, kernel_size=(3, 3),activation='relu'))\n",
    "    gmodel.add(BatchNormalization())\n",
    "    gmodel.add(Conv2D(64, kernel_size=(3, 3),activation='relu'))\n",
    "    gmodel.add(BatchNormalization())\n",
    "    gmodel.add(MaxPooling2D(pool_size=(2, 2), strides=(2, 2)))\n",
    "    gmodel.add(Dropout(0.2))\n",
    "    \n",
    "    #Flatten the data for upcoming dense layers\n",
    "    gmodel.add(Flatten())\n",
    "\n",
    "    #Dense Layers\n",
    "    gmodel.add(Dense(512))\n",
    "    gmodel.add(Activation('relu'))\n",
    "    gmodel.add(Dropout(0.2))\n",
    "\n",
    "    #Dense Layer 2\n",
    "    gmodel.add(Dense(256))\n",
    "    gmodel.add(Activation('relu'))\n",
    "    gmodel.add(Dropout(0.2))\n",
    "\n",
    "    #Sigmoid Layer\n",
    "    gmodel.add(Dense(1))\n",
    "    gmodel.add(Activation('sigmoid'))\n",
    "\n",
    "    mypotim=Adam(lr=0.001, beta_1=0.9, beta_2=0.999, epsilon=1e-08, decay=0.0)\n",
    "    gmodel.compile(loss='binary_crossentropy',\n",
    "                  optimizer=mypotim,\n",
    "                  metrics=['accuracy'])\n",
    "    gmodel.summary()\n",
    "    return gmodel\n",
    "\n",
    "\n",
    "def get_callbacks(filepath, patience=2):\n",
    "    es = EarlyStopping('val_loss', patience=patience, mode=\"min\")\n",
    "    msave = ModelCheckpoint(filepath, save_best_only=True)\n",
    "    return [es, msave]\n",
    "\n",
    "\n",
    "#file_path = \".model_weights.hdf5\"\n",
    "#callbacks = get_callbacks(filepath=file_path, patience=5)\n",
    "\n",
    "#filepath=\"weights-improvement-{epoch:02d}-{val_acc:.2f}.hdf5\"\n",
    "#checkpoint = ModelCheckpoint(filepath, monitor='val_acc', verbose=1, save_best_only=True, mode='max')\n",
    "#callbacks_list = [checkpoint]\n",
    "\n",
    "filepath=\"weights.best.hdf5\"\n",
    "checkpoint = ModelCheckpoint(filepath, monitor='val_loss', verbose=1, save_best_only=True, mode='min')\n",
    "callbacks_list = [checkpoint]"
   ]
  },
  {
   "cell_type": "code",
   "execution_count": 6,
   "metadata": {},
   "outputs": [],
   "source": [
    "import timeit\n",
    "start = timeit.default_timer()"
   ]
  },
  {
   "cell_type": "code",
   "execution_count": 7,
   "metadata": {},
   "outputs": [
    {
     "name": "stderr",
     "output_type": "stream",
     "text": [
      "/home/ubuntu/anaconda3/envs/tensorflow_p36/lib/python3.6/site-packages/sklearn/model_selection/_split.py:2026: FutureWarning: From version 0.21, test_size will always complement train_size unless both are specified.\n",
      "  FutureWarning)\n"
     ]
    },
    {
     "name": "stdout",
     "output_type": "stream",
     "text": [
      "_________________________________________________________________\n",
      "Layer (type)                 Output Shape              Param #   \n",
      "=================================================================\n",
      "conv2d_1 (Conv2D)            (None, 73, 73, 64)        1216      \n",
      "_________________________________________________________________\n",
      "batch_normalization_1 (Batch (None, 73, 73, 64)        256       \n",
      "_________________________________________________________________\n",
      "conv2d_2 (Conv2D)            (None, 71, 71, 64)        36928     \n",
      "_________________________________________________________________\n",
      "batch_normalization_2 (Batch (None, 71, 71, 64)        256       \n",
      "_________________________________________________________________\n",
      "max_pooling2d_1 (MaxPooling2 (None, 35, 35, 64)        0         \n",
      "_________________________________________________________________\n",
      "dropout_1 (Dropout)          (None, 35, 35, 64)        0         \n",
      "_________________________________________________________________\n",
      "conv2d_3 (Conv2D)            (None, 33, 33, 64)        36928     \n",
      "_________________________________________________________________\n",
      "batch_normalization_3 (Batch (None, 33, 33, 64)        256       \n",
      "_________________________________________________________________\n",
      "conv2d_4 (Conv2D)            (None, 31, 31, 64)        36928     \n",
      "_________________________________________________________________\n",
      "batch_normalization_4 (Batch (None, 31, 31, 64)        256       \n",
      "_________________________________________________________________\n",
      "max_pooling2d_2 (MaxPooling2 (None, 15, 15, 64)        0         \n",
      "_________________________________________________________________\n",
      "dropout_2 (Dropout)          (None, 15, 15, 64)        0         \n",
      "_________________________________________________________________\n",
      "flatten_1 (Flatten)          (None, 14400)             0         \n",
      "_________________________________________________________________\n",
      "dense_1 (Dense)              (None, 512)               7373312   \n",
      "_________________________________________________________________\n",
      "activation_1 (Activation)    (None, 512)               0         \n",
      "_________________________________________________________________\n",
      "dropout_3 (Dropout)          (None, 512)               0         \n",
      "_________________________________________________________________\n",
      "dense_2 (Dense)              (None, 256)               131328    \n",
      "_________________________________________________________________\n",
      "activation_2 (Activation)    (None, 256)               0         \n",
      "_________________________________________________________________\n",
      "dropout_4 (Dropout)          (None, 256)               0         \n",
      "_________________________________________________________________\n",
      "dense_3 (Dense)              (None, 1)                 257       \n",
      "_________________________________________________________________\n",
      "activation_3 (Activation)    (None, 1)                 0         \n",
      "=================================================================\n",
      "Total params: 7,617,921\n",
      "Trainable params: 7,617,409\n",
      "Non-trainable params: 512\n",
      "_________________________________________________________________\n",
      "Train on 4330 samples, validate on 482 samples\n",
      "Epoch 1/20\n",
      "4320/4330 [============================>.] - ETA: 0s - loss: 0.9042 - acc: 0.6975Epoch 00001: val_loss improved from inf to 1.03624, saving model to weights.best.hdf5\n",
      "4330/4330 [==============================] - 19s 4ms/step - loss: 0.9026 - acc: 0.6979 - val_loss: 1.0362 - val_acc: 0.6515\n",
      "Epoch 2/20\n",
      "4320/4330 [============================>.] - ETA: 0s - loss: 0.4913 - acc: 0.7912Epoch 00002: val_loss did not improve\n",
      "4330/4330 [==============================] - 16s 4ms/step - loss: 0.4910 - acc: 0.7915 - val_loss: 2.1600 - val_acc: 0.5809\n",
      "Epoch 3/20\n",
      "4320/4330 [============================>.] - ETA: 0s - loss: 0.4340 - acc: 0.8231Epoch 00003: val_loss improved from 1.03624 to 0.45273, saving model to weights.best.hdf5\n",
      "4330/4330 [==============================] - 17s 4ms/step - loss: 0.4441 - acc: 0.8226 - val_loss: 0.4527 - val_acc: 0.7656\n",
      "Epoch 4/20\n",
      "4320/4330 [============================>.] - ETA: 0s - loss: 0.3800 - acc: 0.8412Epoch 00004: val_loss improved from 0.45273 to 0.38261, saving model to weights.best.hdf5\n",
      "4330/4330 [==============================] - 17s 4ms/step - loss: 0.3800 - acc: 0.8413 - val_loss: 0.3826 - val_acc: 0.8444\n",
      "Epoch 5/20\n",
      "4320/4330 [============================>.] - ETA: 0s - loss: 0.3247 - acc: 0.8699Epoch 00005: val_loss improved from 0.38261 to 0.28104, saving model to weights.best.hdf5\n",
      "4330/4330 [==============================] - 17s 4ms/step - loss: 0.3241 - acc: 0.8702 - val_loss: 0.2810 - val_acc: 0.8714\n",
      "Epoch 6/20\n",
      "4320/4330 [============================>.] - ETA: 0s - loss: 0.3231 - acc: 0.8669Epoch 00006: val_loss did not improve\n",
      "4330/4330 [==============================] - 16s 4ms/step - loss: 0.3230 - acc: 0.8670 - val_loss: 0.6780 - val_acc: 0.6909\n",
      "Epoch 7/20\n",
      "4320/4330 [============================>.] - ETA: 0s - loss: 0.2837 - acc: 0.8794Epoch 00007: val_loss did not improve\n",
      "4330/4330 [==============================] - 16s 4ms/step - loss: 0.2833 - acc: 0.8797 - val_loss: 0.4181 - val_acc: 0.8195\n",
      "Epoch 8/20\n",
      "4320/4330 [============================>.] - ETA: 0s - loss: 0.2632 - acc: 0.8921Epoch 00008: val_loss improved from 0.28104 to 0.26864, saving model to weights.best.hdf5\n",
      "4330/4330 [==============================] - 17s 4ms/step - loss: 0.2669 - acc: 0.8919 - val_loss: 0.2686 - val_acc: 0.8734\n",
      "Epoch 9/20\n",
      "4320/4330 [============================>.] - ETA: 0s - loss: 0.2353 - acc: 0.9023Epoch 00009: val_loss did not improve\n",
      "4330/4330 [==============================] - 16s 4ms/step - loss: 0.2351 - acc: 0.9025 - val_loss: 0.2965 - val_acc: 0.8589\n",
      "Epoch 10/20\n",
      "4320/4330 [============================>.] - ETA: 0s - loss: 0.2283 - acc: 0.9155Epoch 00010: val_loss did not improve\n",
      "4330/4330 [==============================] - 16s 4ms/step - loss: 0.2285 - acc: 0.9152 - val_loss: 0.3353 - val_acc: 0.8589\n",
      "Epoch 11/20\n",
      "4320/4330 [============================>.] - ETA: 0s - loss: 0.2354 - acc: 0.9157Epoch 00011: val_loss did not improve\n",
      "4330/4330 [==============================] - 16s 4ms/step - loss: 0.2350 - acc: 0.9159 - val_loss: 0.5985 - val_acc: 0.7946\n",
      "Epoch 12/20\n",
      "4320/4330 [============================>.] - ETA: 0s - loss: 0.1787 - acc: 0.9306Epoch 00012: val_loss did not improve\n",
      "4330/4330 [==============================] - 16s 4ms/step - loss: 0.1786 - acc: 0.9307 - val_loss: 0.3747 - val_acc: 0.8568\n",
      "Epoch 13/20\n",
      "4320/4330 [============================>.] - ETA: 0s - loss: 0.1807 - acc: 0.9359Epoch 00013: val_loss did not improve\n",
      "4330/4330 [==============================] - 16s 4ms/step - loss: 0.1807 - acc: 0.9358 - val_loss: 0.2937 - val_acc: 0.8838\n",
      "Epoch 14/20\n",
      "4320/4330 [============================>.] - ETA: 0s - loss: 0.1327 - acc: 0.9488Epoch 00014: val_loss did not improve\n",
      "4330/4330 [==============================] - 16s 4ms/step - loss: 0.1325 - acc: 0.9490 - val_loss: 0.7313 - val_acc: 0.7614\n",
      "Epoch 15/20\n",
      "4320/4330 [============================>.] - ETA: 0s - loss: 0.1627 - acc: 0.9512Epoch 00015: val_loss did not improve\n",
      "4330/4330 [==============================] - 16s 4ms/step - loss: 0.1630 - acc: 0.9510 - val_loss: 0.3254 - val_acc: 0.8983\n",
      "Epoch 16/20\n",
      "4320/4330 [============================>.] - ETA: 0s - loss: 0.0774 - acc: 0.9731Epoch 00016: val_loss did not improve\n",
      "4330/4330 [==============================] - 16s 4ms/step - loss: 0.0773 - acc: 0.9732 - val_loss: 0.3274 - val_acc: 0.8983\n",
      "Epoch 17/20\n",
      "4320/4330 [============================>.] - ETA: 0s - loss: 0.0722 - acc: 0.9799Epoch 00017: val_loss did not improve\n",
      "4330/4330 [==============================] - 16s 4ms/step - loss: 0.0720 - acc: 0.9799 - val_loss: 0.3339 - val_acc: 0.8797\n",
      "Epoch 18/20\n",
      "4320/4330 [============================>.] - ETA: 0s - loss: 0.0981 - acc: 0.9718Epoch 00018: val_loss did not improve\n",
      "4330/4330 [==============================] - 16s 4ms/step - loss: 0.0979 - acc: 0.9718 - val_loss: 0.4015 - val_acc: 0.8133\n",
      "Epoch 19/20\n",
      "4320/4330 [============================>.] - ETA: 0s - loss: 0.0788 - acc: 0.9738Epoch 00019: val_loss did not improve\n",
      "4330/4330 [==============================] - 16s 4ms/step - loss: 0.0786 - acc: 0.9739 - val_loss: 0.3707 - val_acc: 0.8797\n"
     ]
    },
    {
     "name": "stdout",
     "output_type": "stream",
     "text": [
      "Epoch 20/20\n",
      "4320/4330 [============================>.] - ETA: 0s - loss: 0.0469 - acc: 0.9850Epoch 00020: val_loss did not improve\n",
      "4330/4330 [==============================] - 16s 4ms/step - loss: 0.0468 - acc: 0.9850 - val_loss: 0.6445 - val_acc: 0.8610\n"
     ]
    }
   ],
   "source": [
    "X_train_cv, X_valid, y_train_cv, y_valid = train_test_split(X_train_rotate, target_train, random_state=1, train_size=0.9)\n",
    "#Without denoising, core features.\n",
    "\n",
    "import os\n",
    "gmodel=getModel()\n",
    "history = gmodel.fit(X_train_cv, y_train_cv,\n",
    "          batch_size=24,\n",
    "          epochs=20,\n",
    "          verbose=1,\n",
    "          validation_data=(X_valid, y_valid),\n",
    "          callbacks=callbacks_list)"
   ]
  },
  {
   "cell_type": "code",
   "execution_count": 8,
   "metadata": {},
   "outputs": [
    {
     "name": "stdout",
     "output_type": "stream",
     "text": [
      "330.68437305299994\n"
     ]
    }
   ],
   "source": [
    "stop = timeit.default_timer()\n",
    "print (stop-start)"
   ]
  },
  {
   "cell_type": "code",
   "execution_count": 9,
   "metadata": {},
   "outputs": [
    {
     "name": "stdout",
     "output_type": "stream",
     "text": [
      "482/482 [==============================] - 1s 1ms/step\n",
      "Test loss: 0.268641932703\n",
      "Test accuracy: 0.873443983402\n"
     ]
    }
   ],
   "source": [
    "gmodel.load_weights(filepath=filepath)\n",
    "score = gmodel.evaluate(X_valid, y_valid, verbose=1)\n",
    "print('Test loss:', score[0])\n",
    "print('Test accuracy:', score[1])"
   ]
  },
  {
   "cell_type": "code",
   "execution_count": 10,
   "metadata": {},
   "outputs": [
    {
     "name": "stdout",
     "output_type": "stream",
     "text": [
      "dict_keys(['val_loss', 'val_acc', 'loss', 'acc'])\n"
     ]
    },
    {
     "data": {
      "image/png": "[encoded data removed]",
      "text/plain": [
       "<matplotlib.figure.Figure at 0x7f4a96dd9208>"
      ]
     },
     "metadata": {},
     "output_type": "display_data"
    },
    {
     "data": {
      "image/png": "[encoded data removed]",
      "text/plain": [
       "<matplotlib.figure.Figure at 0x7f4a96d49f60>"
      ]
     },
     "metadata": {},
     "output_type": "display_data"
    }
   ],
   "source": [
    "print(history.history.keys())\n",
    "# summarize history for accuracy\n",
    "plt.plot(history.history['acc'])\n",
    "plt.plot(history.history['val_acc'])\n",
    "plt.title('model accuracy')\n",
    "plt.ylabel('accuracy')\n",
    "plt.xlabel('epoch')\n",
    "plt.legend(['train', 'test'], loc='upper left')\n",
    "plt.show()\n",
    "# summarize history for loss\n",
    "plt.plot(history.history['loss'])\n",
    "plt.plot(history.history['val_loss'])\n",
    "plt.title('model loss')\n",
    "plt.ylabel('loss')\n",
    "plt.xlabel('epoch')\n",
    "plt.legend(['train', 'test'], loc='upper left')\n",
    "plt.show()"
   ]
  },
  {
   "cell_type": "code",
   "execution_count": 11,
   "metadata": {},
   "outputs": [],
   "source": [
    "#import testing data\n",
    "X_test = np.load(\"/home/ubuntu/X_test.npy\")\n",
    "test_id = np.load('/home/ubuntu/test_id.npy')\n",
    "predicted_test=gmodel.predict_proba(X_test)"
   ]
  },
  {
   "cell_type": "code",
   "execution_count": 12,
   "metadata": {},
   "outputs": [],
   "source": [
    "import pandas as pd\n",
    "submission = pd.DataFrame()\n",
    "submission['id']=test_id\n",
    "submission['is_iceberg']=predicted_test.reshape((predicted_test.shape[0]))\n",
    "submission.to_csv('sub.csv', index=False)"
   ]
  },
  {
   "cell_type": "code",
   "execution_count": null,
   "metadata": {},
   "outputs": [],
   "source": []
  }
 ],
 "metadata": {
  "kernelspec": {
   "display_name": "Environment (conda_tensorflow_p36)",
   "language": "python",
   "name": "conda_tensorflow_p36"
  },
  "language_info": {
   "codemirror_mode": {
    "name": "ipython",
    "version": 3
   },
   "file_extension": ".py",
   "mimetype": "text/x-python",
   "name": "python",
   "nbconvert_exporter": "python",
   "pygments_lexer": "ipython3",
   "version": "3.6.3"
  }
 },
 "nbformat": 4,
 "nbformat_minor": 2
}
